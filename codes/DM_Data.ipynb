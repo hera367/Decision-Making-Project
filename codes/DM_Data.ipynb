{
  "nbformat": 4,
  "nbformat_minor": 0,
  "metadata": {
    "colab": {
      "provenance": []
    },
    "kernelspec": {
      "name": "python3",
      "display_name": "Python 3"
    },
    "language_info": {
      "name": "python"
    }
  },
  "cells": [
    {
      "cell_type": "code",
      "source": [
        "!pip install numpy\n",
        "\n",
        "import numpy as np\n",
        "import pandas as pd\n",
        "import ast\n",
        "import csv"
      ],
      "metadata": {
        "id": "NM5-8-jEhpPo",
        "colab": {
          "base_uri": "https://localhost:8080/"
        },
        "outputId": "9ae80aba-bd11-4d94-a841-83d5b2dd500d"
      },
      "execution_count": null,
      "outputs": [
        {
          "output_type": "stream",
          "name": "stdout",
          "text": [
            "Requirement already satisfied: numpy in /usr/local/lib/python3.10/dist-packages (1.25.2)\n"
          ]
        }
      ]
    },
    {
      "cell_type": "code",
      "source": [
        "user_data02=pd.read_csv('All data - D02.csv')\n",
        "print(user_data02)"
      ],
      "metadata": {
        "colab": {
          "base_uri": "https://localhost:8080/"
        },
        "id": "k8KJ7sZbh_9D",
        "outputId": "6999b387-6b17-4029-d372-4830c0b4c22b"
      },
      "execution_count": null,
      "outputs": [
        {
          "output_type": "stream",
          "name": "stdout",
          "text": [
            "    ID  Confidence   Confidence rt Trial  \\\n",
            "0  D02           10       3.435139    T1   \n",
            "1  D02            9      10.105582    T2   \n",
            "2  D02           10       3.201675    T3   \n",
            "3  D02           10       4.292363    T4   \n",
            "4  D02           10       4.925745    T5   \n",
            "5  D02           10       4.329441    T6   \n",
            "6  D02            9       3.188910    T7   \n",
            "7  D02           10       6.121020    T8   \n",
            "8  D02           10       3.766021    T9   \n",
            "9  D02           10       3.420355   T10   \n",
            "\n",
            "                                     Trial response   \\\n",
            "0  ['right', 'left', 'right', 'left', 'right', 'r...   \n",
            "1  ['right', 'left', 'right', 'left', 'left', 'sp...   \n",
            "2  ['right', 'left', 'left', 'right', 'left', 'le...   \n",
            "3  ['right', 'right', 'right', 'left', 'right', '...   \n",
            "4  ['space', 'right', 'left', 'left', 'right', 'l...   \n",
            "5  ['right', 'left', 'right', 'left', 'left', 'ri...   \n",
            "6  ['left', 'right', 'left', 'space', 'right', 's...   \n",
            "7  ['left', 'right', 'right', 'left', 'right', 'r...   \n",
            "8  ['left', 'left', 'left', 'right', 'left', 'rig...   \n",
            "9  ['space', 'left', 'right', 'right', 'left', 'r...   \n",
            "\n",
            "                                            Trial rt  \n",
            "0  [5.7155754000123125, 6.7479037000157405, 11.88...  \n",
            "1  [7.85912200002349, 11.883093900018139, 18.0889...  \n",
            "2  [6.666958699992392, 12.436154800001532, 18.347...  \n",
            "3  [6.617064999998547, 12.65215179999359, 18.4464...  \n",
            "4  [7.27075260001584, 12.86149569999543, 18.34543...  \n",
            "5  [6.660316400026204, 12.584622400027001, 18.080...  \n",
            "6  [6.601774000009755, 12.557117499993183, 19.698...  \n",
            "7  [6.471013900008984, 13.294790100015234, 18.219...  \n",
            "8  [6.706292400020175, 12.884515800018562, 18.898...  \n",
            "9  [7.268443000008119, 12.845029899996007, 18.596...  \n"
          ]
        }
      ]
    },
    {
      "cell_type": "code",
      "source": [
        "observed_data_C2 = {}\n",
        "\n",
        "# Iterate over each row in the DataFrame\n",
        "for i, row in enumerate(user_data02.itertuples(), start=0):\n",
        "    string_list= user_data02.at[i, 'Trial rt']\n",
        "    float_list = ast.literal_eval(string_list)\n",
        "    trial_data = {\n",
        "        'time': [str(round(float(rt), 4)) for rt in float_list],  # Convert trial rt to string format\n",
        "        'option': ast.literal_eval(row[5])  # Convert string representation of list to actual list\n",
        "    }\n",
        "\n",
        "    # Add the trial data to the observed_data_C1 dictionary with the key 'T{i}'\n",
        "    observed_data_C2[f'T{i}'] = trial_data\n",
        "\n",
        "# Print the transformed data\n",
        "print(observed_data_C2)"
      ],
      "metadata": {
        "id": "85Jno3G1TOUz",
        "colab": {
          "base_uri": "https://localhost:8080/"
        },
        "outputId": "8fd92e7a-1761-4ca7-e357-1b19c8399872"
      },
      "execution_count": null,
      "outputs": [
        {
          "output_type": "stream",
          "name": "stdout",
          "text": [
            "{'T0': {'time': ['5.7156', '6.7479', '11.8899', '18.4049', '23.9265', '30.84', '36.0785', '42.0342', '48.3332', '54.2648', '61.4264', '66.7202', '72.4794', '78.5269', '84.2104', '90.6412', '96.4058', '102.4324', '108.7015', '114.3907'], 'option': ['right', 'left', 'right', 'left', 'right', 'right', 'left', 'right', 'right', 'right', 'space', 'left', 'left', 'right', 'left', 'left', 'right', 'left', 'right', 'left']}, 'T1': {'time': ['7.8591', '11.8831', '18.089', '23.7669', '30.9457', '37.1983', '42.6359', '48.7885', '54.9014', '61.0837', '66.6493', '72.6194', '78.9827', '84.4751', '90.4151', '96.2754', '102.5513', '108.3752', '114.4113'], 'option': ['right', 'left', 'right', 'left', 'left', 'space', 'left', 'left', 'left', 'space', 'right', 'left', 'right', 'right', 'left', 'right', 'left', 'left', 'right']}, 'T2': {'time': ['6.667', '12.4362', '18.3477', '24.4299', '30.4413', '36.7357', '42.127', '48.4155', '54.1259', '60.6413', '66.3453', '73.0963', '78.697', '83.5465', '91.1278', '96.5758', '102.648', '108.4287', '114.8122'], 'option': ['right', 'left', 'left', 'right', 'left', 'left', 'right', 'right', 'left', 'right', 'left', 'space', 'right', 'left', 'left', 'right', 'right', 'left', 'left']}, 'T3': {'time': ['6.6171', '12.6522', '18.4464', '24.3161', '30.1378', '36.5691', '43.053', '48.7932', '54.8611', '60.8057', '66.0681', '72.5972', '78.1936', '84.6996', '90.6603', '96.4206', '102.5535', '108.6844', '114.2965'], 'option': ['right', 'right', 'right', 'left', 'right', 'left', 'space', 'right', 'right', 'right', 'left', 'right', 'left', 'left', 'space', 'right', 'left', 'right', 'left']}, 'T4': {'time': ['7.2708', '12.8615', '18.3454', '25.0035', '31.0358', '36.6232', '42.6901', '48.9472', '55.4561', '60.4162', '66.6495', '73.1181', '78.9214', '84.8753', '91.3853', '96.9362', '103.0903', '108.7557', '116.6194'], 'option': ['space', 'right', 'left', 'left', 'right', 'left', 'left', 'left', 'right', 'left', 'right', 'left', 'space', 'right', 'right', 'left', 'space', 'left', 'space']}, 'T5': {'time': ['6.6603', '12.5846', '18.0804', '24.9565', '30.7586', '36.786', '42.2036', '49.0026', '54.7923', '60.8943', '66.9966', '72.6967', '78.5311', '84.7724', '90.7442', '95.9547', '102.5329', '108.7284', '115.1363'], 'option': ['right', 'left', 'right', 'left', 'left', 'right', 'left', 'left', 'left', 'space', 'right', 'right', 'left', 'right', 'right', 'left', 'right', 'left', 'right']}, 'T6': {'time': ['6.6018', '12.5571', '19.6982', '24.8737', '30.5876', '36.658', '42.5898', '48.7143', '54.6671', '60.5981', '63.8739', '67.0952', '72.9609', '78.5763', '84.8631', '90.6113', '96.3618', '103.7663', '109.0193', '114.2325'], 'option': ['left', 'right', 'left', 'space', 'right', 'space', 'right', 'right', 'right', 'left', 'space', 'left', 'right', 'left', 'left', 'right', 'left', 'right', 'right', 'left']}, 'T7': {'time': ['6.471', '13.2948', '18.2194', '24.1228', '30.5587', '36.701', '44.0543', '48.2945', '54.4435', '61.2079', '67.9752', '73.1879', '78.7417', '84.9028', '93.3175', '96.6967', '103.0075', '109.0186', '114.8622'], 'option': ['left', 'right', 'right', 'left', 'right', 'right', 'left', 'left', 'right', 'left', 'right', 'space', 'left', 'space', 'right', 'left', 'left', 'right', 'right']}, 'T8': {'time': ['6.7063', '12.8845', '18.8989', '24.4181', '29.9324', '36.3827', '43.0705', '48.8496', '54.8067', '61.163', '66.9062', '72.3414', '78.7734', '84.9739', '91.1551', '96.8996', '102.491', '108.9696', '115.4056'], 'option': ['left', 'left', 'left', 'right', 'left', 'right', 'space', 'left', 'left', 'left', 'right', 'left', 'right', 'right', 'space', 'left', 'right', 'left', 'right']}, 'T9': {'time': ['7.2684', '12.845', '18.5962', '24.6626', '30.6144', '36.971', '42.4774', '48.5889', '54.4184', '60.4104', '66.51', '73.0404', '78.724', '85.1695', '91.5045', '96.3209', '102.9915', '108.6297', '114.5883'], 'option': ['space', 'left', 'right', 'right', 'left', 'right', 'right', 'right', 'left', 'right', 'left', 'right', 'space', 'left', 'left', 'right', 'space', 'right', 'right']}}\n"
          ]
        }
      ]
    },
    {
      "cell_type": "code",
      "source": [
        "user_data04=pd.read_csv('All data - D04.csv')\n",
        "observed_data_C4 = {}\n",
        "\n",
        "# Iterate over each row in the DataFrame\n",
        "for i, row in enumerate(user_data04.itertuples(), start=0):\n",
        "    string_list= user_data04.at[i, 'Trial rt']\n",
        "    float_list = ast.literal_eval(string_list)\n",
        "    trial_data = {\n",
        "        'time': [str(round(float(rt), 4)) for rt in float_list],  # Convert trial rt to string format\n",
        "        'option': ast.literal_eval(row[5])  # Convert string representation of list to actual list\n",
        "    }\n",
        "\n",
        "    # Add the trial data to the observed_data_C1 dictionary with the key 'T{i}'\n",
        "    observed_data_C4[f'T{i}'] = trial_data\n",
        "\n",
        "# Print the transformed data\n",
        "print(observed_data_C4)"
      ],
      "metadata": {
        "id": "QYIrqwwIf7ld",
        "colab": {
          "base_uri": "https://localhost:8080/"
        },
        "outputId": "ee910374-2598-4de0-897c-8da8d1b7eaf7"
      },
      "execution_count": null,
      "outputs": [
        {
          "output_type": "stream",
          "name": "stdout",
          "text": [
            "{'T0': {'time': ['2.1717', '6.3803', '9.6937', '14.5668', '18.5494', '25.0832', '29.1771', '31.1098', '33.617', '36.7322', '38.586', '42.6869', '46.8209', '49.3319', '50.0036', '54.2156', '55.9058', '60.3998', '62.0234', '67.9108', '68.2288', '74.5987', '79.4814', '80.0552', '84.8625', '85.2454', '86.3541', '90.1114', '92.5006', '93.0024', '97.3723', '103.7831', '104.277', '110.1063', '111.4396', '114.9974', '116.0972'], 'option': ['right', 'space', 'left', 'right', 'left', 'right', 'space', 'right', 'right', 'left', 'left', 'right', 'right', 'right', 'right', 'left', 'left', 'left', 'left', 'left', 'left', 'left', 'right', 'right', 'left', 'left', 'left', 'left', 'right', 'right', 'right', 'left', 'left', 'right', 'right', 'left', 'left']}, 'T1': {'time': ['4.1173', '5.9741', '8.2383', '8.5925', '13.9436', '19.9847', '21.6397', '24.7017', '27.5151', '31.4431', '32.1554', '36.4932', '38.0459', '38.6965', '43.3794', '44.1758', '48.1976', '48.575', '50.3488', '57.4238', '60.4979', '63.3685', '68.5933', '74.1412', '80.2178', '85.1022', '86.2384', '92.5749', '98.4443', '104.7784', '110.9417', '116.1711', '117.4422'], 'option': ['right', 'left', 'right', 'right', 'left', 'right', 'right', 'left', 'right', 'left', 'left', 'left', 'right', 'right', 'left', 'left', 'space', 'space', 'space', 'left', 'right', 'right', 'right', 'left', 'right', 'right', 'right', 'left', 'right', 'left', 'right', 'right', 'right']}, 'T2': {'time': ['2.1134', '8.3751', '14.0001', '19.0608', '20.2023', '26.3586', '32.2688', '38.8122', '44.3387', '45.2716', '50.1967', '58.0926', '62.1644', '62.9988', '68.0507', '70.0559', '74.1821', '76.9666', '80.7637', '86.2717', '93.6469', '100.2634', '105.26', '110.2366', '116.0045', '116.9188'], 'option': ['left', 'right', 'left', 'left', 'left', 'right', 'left', 'left', 'right', 'right', 'right', 'space', 'right', 'right', 'left', 'left', 'right', 'right', 'right', 'right', 'left', 'right', 'right', 'left', 'space', 'space']}, 'T3': {'time': ['2.0024', '3.7532', '8.5774', '9.5315', '15.7815', '20.0516', '26.1667', '32.0834', '38.0293', '38.5766', '44.5822', '50.3494', '56.5019', '62.0257', '62.9901', '68.3852', '69.1721', '75.9981', '81.306', '87.2715', '92.1108', '93.8876', '98.0572', '98.8936', '104.8402', '110.8251', '116.0433', '116.478', '118.4806'], 'option': ['right', 'right', 'right', 'right', 'right', 'right', 'space', 'right', 'left', 'left', 'right', 'right', 'right', 'right', 'right', 'left', 'left', 'right', 'left', 'left', 'right', 'right', 'right', 'right', 'left', 'right', 'left', 'left', 'left']}, 'T4': {'time': ['3.0668', '9.2839', '14.4263', '19.908', '20.298', '26.4911', '32.1141', '32.7989', '39.3154', '45.2512', '50.4301', '55.8386', '57.081', '61.1835', '61.9014', '68.1894', '68.5838', '70.3646', '74.6115', '74.9838', '80.2284', '81.1848', '86.6814', '92.3195', '97.9871', '104.5194', '110.0796', '116.3573'], 'option': ['right', 'right', 'left', 'left', 'left', 'left', 'right', 'right', 'left', 'left', 'left', 'right', 'right', 'left', 'left', 'right', 'right', 'right', 'left', 'left', 'right', 'right', 'right', 'right', 'left', 'right', 'left', 'right']}, 'T5': {'time': ['8.326', '8.6628', '9.8804', '14.2092', '14.7146', '19.7957', '20.9033', '26.0984', '26.7825', '38.7912', '39.6402', '46.0388', '50.2424', '50.7389', '56.2554', '62.2758', '67.5301', '69.164', '75.9343', '80.0804', '80.7392', '86.8707', '87.3047', '95.3569', '99.2629', '107.9756', '116.2524', '116.9782'], 'option': ['right', 'right', 'right', 'left', 'left', 'right', 'right', 'left', 'left', 'right', 'right', 'space', 'right', 'right', 'left', 'right', 'right', 'right', 'right', 'left', 'left', 'right', 'right', 'right', 'left', 'right', 'right', 'right']}, 'T6': {'time': ['2.7389', '3.4046', '8.4365', '9.5', '14.3059', '14.6954', '20.2381', '25.7006', '27.4179', '32.4443', '32.8669', '44.3914', '44.9429', '56.2394', '56.6287', '62.2304', '62.8361', '66.8768', '70.1305', '74.0228', '75.1481', '80.1246', '80.4472', '86.6264', '91.5955', '92.2219', '98.0944', '98.4502', '104.1199', '104.5205', '110.134', '110.5165', '116.2699', '116.9875'], 'option': ['right', 'right', 'left', 'left', 'right', 'right', 'left', 'right', 'right', 'right', 'right', 'right', 'right', 'right', 'right', 'left', 'left', 'left', 'left', 'right', 'right', 'right', 'right', 'left', 'right', 'right', 'left', 'left', 'right', 'right', 'left', 'left', 'left', 'left']}, 'T7': {'time': ['2.6075', '3.01', '8.8', '9.117', '14.0617', '14.4104', '20.1111', '20.404', '25.5806', '26.1023', '31.9414', '32.8213', '41.1215', '41.6302', '44.2358', '45.0458', '49.229', '50.239', '51.5776', '61.7142', '62.1592', '68.6328', '69.0602', '81.775', '82.1037', '86.8163', '87.1554', '92.2075', '92.5608', '98.1223', '98.4323', '104.527', '104.9169', '110.0406', '110.3781', '115.9872', '116.3078'], 'option': ['right', 'right', 'left', 'left', 'right', 'right', 'right', 'right', 'left', 'left', 'right', 'right', 'right', 'right', 'right', 'right', 'left', 'left', 'left', 'right', 'right', 'left', 'left', 'right', 'right', 'right', 'right', 'right', 'right', 'left', 'left', 'right', 'right', 'right', 'right', 'right', 'right']}, 'T8': {'time': ['3.5445', '4.4987', '8.0075', '8.2695', '13.1471', '13.498', '14.1994', '15.5336', '19.9537', '20.2959', '26.2967', '26.6302', '28.0366', '31.643', '32.6215', '46.2228', '46.9711', '50.5458', '51.6471', '56.1531', '56.3984', '61.6288', '66.7458', '67.1603', '68.1396', '73.9923', '74.2648', '79.6107', '80.1965', '86.0253', '86.3443', '87.0675', '92.4149', '99.3872', '99.6491', '108.1048', '114.9041', '116.55'], 'option': ['right', 'right', 'left', 'left', 'left', 'left', 'left', 'left', 'left', 'left', 'right', 'right', 'right', 'left', 'left', 'left', 'left', 'right', 'right', 'left', 'left', 'left', 'right', 'right', 'right', 'left', 'left', 'right', 'right', 'right', 'right', 'right', 'left', 'right', 'right', 'right', 'right', 'right']}, 'T9': {'time': ['4.0043', '8.5601', '9.1504', '14.1874', '18.8917', '20.8278', '25.0489', '26.0161', '30.0488', '30.7874', '32.0921', '34.9353', '39.0619', '39.4605', '44.3508', '44.8638', '50.3639', '50.7143', '56.5512', '56.9218', '62.2264', '62.5815', '68.2378', '69.0296', '75.2535', '75.6093', '80.8579', '81.9128', '89.8453', '90.2436', '92.1029', '98.6731', '99.2817', '104.2248', '104.9659', '107.004', '109.172', '110.2674', '116.0152', '116.6622'], 'option': ['right', 'right', 'right', 'left', 'right', 'right', 'right', 'right', 'left', 'left', 'left', 'left', 'right', 'right', 'left', 'left', 'right', 'right', 'left', 'left', 'right', 'right', 'left', 'left', 'right', 'right', 'right', 'right', 'right', 'right', 'right', 'right', 'right', 'right', 'right', 'right', 'right', 'right', 'right', 'right']}}\n"
          ]
        }
      ]
    },
    {
      "cell_type": "code",
      "source": [
        "user_data06=pd.read_csv('All data - D06.csv')\n",
        "observed_data_C6 = {}\n",
        "\n",
        "# Iterate over each row in the DataFrame\n",
        "for i, row in enumerate(user_data06.itertuples(), start=0):\n",
        "    string_list= user_data06.at[i, 'Trial rt']\n",
        "    float_list = ast.literal_eval(string_list)\n",
        "    trial_data = {\n",
        "        'time': [str(round(float(rt), 4)) for rt in float_list],  # Convert trial rt to string format\n",
        "        'option': ast.literal_eval(row[5])  # Convert string representation of list to actual list\n",
        "    }\n",
        "\n",
        "    # Add the trial data to the observed_data_C1 dictionary with the key 'T{i}'\n",
        "    observed_data_C6[f'T{i}'] = trial_data\n",
        "\n",
        "# Print the transformed data\n",
        "print(observed_data_C6)"
      ],
      "metadata": {
        "id": "zGjefUrRf8Bl",
        "colab": {
          "base_uri": "https://localhost:8080/"
        },
        "outputId": "991b0f9f-bdd7-410a-9a7c-0718e2c1d5f5"
      },
      "execution_count": null,
      "outputs": [
        {
          "output_type": "stream",
          "name": "stdout",
          "text": [
            "{'T0': {'time': ['4.0377', '8.3993', '14.1926', '20.4035', '26.4221', '32.5754', '38.3088', '44.2282', '51.2461', '56.2421', '62.4777', '68.447', '74.6609', '80.6039', '86.2968', '92.6862', '98.1527', '104.3898', '110.3455', '116.3304'], 'option': ['space', 'right', 'left', 'right', 'left', 'left', 'right', 'left', 'space', 'left', 'space', 'right', 'space', 'left', 'right', 'space', 'left', 'right', 'left', 'right']}, 'T1': {'time': ['2.8109', '9.056', '14.2811', '20.4395', '26.5933', '32.3098', '38.4355', '44.6846', '50.584', '56.4585', '62.4413', '68.2799', '74.6297', '80.3021', '86.4361', '92.505', '98.3513', '104.3385', '110.3448', '116.414'], 'option': ['space', 'left', 'right', 'left', 'space', 'right', 'space', 'right', 'right', 'right', 'space', 'left', 'space', 'left', 'left', 'right', 'left', 'right', 'right', 'left']}, 'T2': {'time': ['2.6382', '8.6149', '14.3668', '20.466', '26.2152', '32.2668', '38.3309', '44.7448', '50.8421', '56.2659', '62.6189', '69.4057', '74.2356', '80.1724', '86.7731', '92.6466', '98.6477', '104.2358', '110.4066', '116.5816'], 'option': ['space', 'space', 'right', 'right', 'left', 'right', 'right', 'left', 'space', 'right', 'space', 'space', 'space', 'left', 'space', 'right', 'left', 'left', 'right', 'right']}, 'T3': {'time': ['2.5327', '8.2598', '14.1996', '20.53', '26.3545', '32.2032', '38.2664', '44.4489', '50.3783', '56.256', '62.1687', '68.4621', '74.2555', '80.2024', '86.3373', '92.3434', '98.2873', '104.2137', '110.1944', '116.3607'], 'option': ['space', 'left', 'left', 'left', 'right', 'left', 'right', 'space', 'left', 'left', 'left', 'right', 'space', 'right', 'right', 'space', 'left', 'right', 'left', 'right']}, 'T4': {'time': ['2.6185', '8.3002', '14.3632', '19.8412', '21.7679', '26.3128', '32.3307', '38.4327', '44.2956', '50.3129', '56.2261', '62.3392', '68.1688', '75.122', '80.2656', '86.3035', '92.3324', '98.4709', '104.4379', '110.8851', '116.3121'], 'option': ['space', 'space', 'left', 'right', 'right', 'right', 'left', 'right', 'right', 'right', 'left', 'right', 'left', 'space', 'space', 'left', 'left', 'right', 'space', 'space', 'left']}, 'T5': {'time': ['2.4449', '8.2031', '14.2494', '20.1776', '26.2163', '32.1903', '38.3696', '44.0871', '50.2014', '56.1532', '62.7493', '69.1071', '74.1515', '80.3219', '86.6189', '93.068', '98.2944', '104.4395', '110.1749', '116.3933'], 'option': ['space', 'left', 'right', 'left', 'right', 'right', 'left', 'right', 'right', 'right', 'space', 'space', 'left', 'right', 'left', 'space', 'right', 'left', 'right', 'space']}, 'T6': {'time': ['2.9432', '8.1803', '14.126', '20.1667', '26.2668', '32.196', '38.5028', '44.1327', '50.0505', '55.996', '62.1618', '68.24', '74.2845', '80.288', '86.2917', '92.3528', '92.3832', '99.0905', '104.8009', '110.0834', '116.3651'], 'option': ['left', 'right', 'left', 'right', 'space', 'left', 'space', 'left', 'left', 'left', 'space', 'right', 'left', 'right', 'right', 'left', 'left', 'space', 'space', 'left', 'right']}, 'T7': {'time': ['2.6093', '8.5523', '14.6368', '20.4002', '26.4695', '32.2866', '38.2076', '44.1962', '50.3189', '56.1762', '62.8946', '68.9149', '74.1813', '81.0134', '86.5038', '92.2093', '98.3115', '104.3413', '110.2109', '116.2149'], 'option': ['space', 'right', 'left', 'left', 'right', 'left', 'left', 'right', 'right', 'left', 'space', 'left', 'space', 'space', 'space', 'left', 'right', 'right', 'left', 'left']}, 'T8': {'time': ['2.896', '14.3087', '20.2302', '26.3979', '32.2462', '38.1043', '44.3489', '50.3728', '56.2591', '62.3864', '68.1989', '74.2251', '80.7636', '86.4779', '92.3943', '98.3464', '104.8916', '110.2589', '116.5008'], 'option': ['space', 'right', 'right', 'left', 'right', 'left', 'space', 'right', 'right', 'right', 'left', 'right', 'space', 'left', 'space', 'right', 'left', 'right', 'left']}, 'T9': {'time': ['2.5517', '9.1111', '14.3339', '20.6861', '26.8326', '32.3904', '38.7135', '44.2494', '50.2809', '56.4019', '62.5629', '68.5111', '74.9021', '80.6336', '86.2793', '92.4035', '98.2269', '104.2183', '110.968', '116.396'], 'option': ['space', 'space', 'right', 'space', 'space', 'right', 'space', 'left', 'left', 'right', 'left', 'right', 'space', 'space', 'right', 'right', 'left', 'space', 'space', 'left']}}\n"
          ]
        }
      ]
    },
    {
      "cell_type": "code",
      "source": [
        "user_data08=pd.read_csv('All data - D08.csv')\n",
        "observed_data_C8 = {}\n",
        "\n",
        "# Iterate over each row in the DataFrame\n",
        "for i, row in enumerate(user_data08.itertuples(), start=0):\n",
        "    string_list= user_data08.at[i, 'Trial rt']\n",
        "    float_list = ast.literal_eval(string_list)\n",
        "    trial_data = {\n",
        "        'time': [str(round(float(rt), 4)) for rt in float_list],  # Convert trial rt to string format\n",
        "        'option': ast.literal_eval(row[5])  # Convert string representation of list to actual list\n",
        "    }\n",
        "\n",
        "    # Add the trial data to the observed_data_C1 dictionary with the key 'T{i}'\n",
        "    observed_data_C8[f'T{i}'] = trial_data\n",
        "\n",
        "# Print the transformed data\n",
        "print(observed_data_C8)"
      ],
      "metadata": {
        "id": "6HiYLyEDf8cr",
        "colab": {
          "base_uri": "https://localhost:8080/"
        },
        "outputId": "ab2b5b86-5f02-496e-b792-6e25f06fe5cb"
      },
      "execution_count": null,
      "outputs": [
        {
          "output_type": "stream",
          "name": "stdout",
          "text": [
            "{'T0': {'time': ['-6.5534', '2.6205', '8.6367', '14.2477', '20.3102', '26.5094', '32.3228', '38.6806', '44.3343', '50.5018', '56.615', '62.6699', '68.7934', '74.4201', '80.4285', '86.4586', '92.5824', '98.6034', '104.6753', '110.7979', '116.8253'], 'option': ['space', 'right', 'right', 'right', 'left', 'right', 'right', 'left', 'right', 'right', 'right', 'space', 'left', 'left', 'right', 'left', 'left', 'right', 'right', 'right', 'left']}, 'T1': {'time': ['2.5521', '8.4813', '8.8537', '14.6584', '20.5386', '26.9081', '33.0435', '39.9988', '45.9351', '51.4819', '56.7337', '62.9795', '68.5816', '74.6668', '80.4759', '86.7203', '92.3536', '98.696', '104.9723', '110.397', '116.3688'], 'option': ['right', 'right', 'right', 'left', 'right', 'space', 'left', 'space', 'right', 'right', 'space', 'space', 'right', 'right', 'right', 'right', 'left', 'right', 'left', 'left', 'right']}, 'T2': {'time': ['2.4973', '8.5032', '14.3669', '20.4475', '26.2956', '32.4899', '38.6776', '44.5119', '50.4077', '56.8949', '62.3358', '68.688', '74.4924', '80.3369', '86.7605', '92.2871', '98.8783', '104.6027', '110.3405', '116.3767'], 'option': ['right', 'right', 'left', 'space', 'right', 'left', 'left', 'right', 'right', 'left', 'right', 'space', 'right', 'right', 'right', 'left', 'right', 'right', 'left', 'left']}, 'T3': {'time': ['3.0076', '8.5323', '14.4367', '20.3727', '26.64', '32.3882', '38.8805', '44.2914', '51.536', '56.4214', '62.6686', '68.5145', '74.4917', '80.3041', '86.7824', '92.5739', '98.2978', '98.6142', '104.2798', '110.6692', '117.029'], 'option': ['left', 'right', 'right', 'right', 'left', 'right', 'left', 'right', 'space', 'right', 'right', 'left', 'right', 'left', 'left', 'space', 'right', 'right', 'left', 'right', 'space']}, 'T4': {'time': ['3.0362', '8.7719', '14.8592', '20.4498', '26.6037', '33.4717', '39.3772', '44.7164', '51.0281', '56.9498', '62.5662', '68.6194', '74.8719', '80.8783', '86.3793', '92.765', '99.5202', '105.126', '110.7423', '116.4955'], 'option': ['left', 'right', 'right', 'left', 'left', 'right', 'left', 'space', 'space', 'right', 'left', 'right', 'left', 'space', 'right', 'right', 'left', 'space', 'left', 'right']}, 'T5': {'time': ['2.4364', '8.4988', '14.4502', '20.8507', '26.7542', '32.8032', '38.4602', '44.6734', '50.6377', '56.2516', '62.5852', '68.3', '75.166', '80.8231', '86.5153', '92.8678', '98.3637', '104.8937', '111.1935', '117.4284'], 'option': ['right', 'right', 'left', 'right', 'left', 'left', 'right', 'left', 'left', 'left', 'right', 'right', 'right', 'left', 'right', 'right', 'left', 'right', 'right', 'right']}, 'T6': {'time': ['2.986', '9.2834', '14.6808', '20.9798', '26.6231', '32.3019', '38.7316', '44.7222', '51.3218', '57.2166', '62.8395', '68.9182', '74.9104', '81.053', '87.0416', '92.8195', '98.7636', '105.197', '110.5049', '116.6099'], 'option': ['space', 'space', 'right', 'left', 'right', 'right', 'left', 'right', 'right', 'right', 'left', 'right', 'right', 'space', 'left', 'right', 'left', 'right', 'right', 'left']}, 'T7': {'time': ['3.3505', '8.6888', '14.9353', '20.5234', '27.2238', '33.1447', '39.7842', '44.5146', '51.3196', '56.922', '58.1288', '63.0151', '68.6463', '74.6199', '81.5743', '86.3881', '93.2351', '99.6407', '105.3016', '110.5921', '117.189'], 'option': ['right', 'left', 'right', 'right', 'left', 'right', 'space', 'left', 'left', 'right', 'right', 'left', 'right', 'left', 'left', 'space', 'right', 'left', 'left', 'right', 'right']}, 'T8': {'time': ['3.1625', '8.5691', '14.631', '20.5817', '26.8263', '33.0541', '38.4475', '45.1655', '50.7607', '56.741', '64.1479', '69.7677', '74.9259', '80.7266', '86.6815', '92.5508', '98.3856', '104.484', '111.0241', '116.8456'], 'option': ['space', 'left', 'left', 'left', 'right', 'left', 'right', 'space', 'left', 'left', 'left', 'right', 'space', 'right', 'right', 'right', 'left', 'right', 'left', 'right']}, 'T9': {'time': ['2.9983', '8.8579', '14.4718', '21.1341', '25.4593', '26.2271', '32.7464', '39.2192', '44.8555', '51.0699', '57.0162', '63.5437', '68.6816', '74.9997', '80.6165', '88.1106', '92.7898', '98.5093', '104.6735', '111.0816', '116.6928'], 'option': ['right', 'left', 'left', 'right', 'right', 'right', 'left', 'right', 'right', 'right', 'left', 'right', 'left', 'right', 'space', 'left', 'left', 'right', 'left', 'right', 'right']}}\n"
          ]
        }
      ]
    },
    {
      "cell_type": "code",
      "source": [
        "user_data10=pd.read_csv('All data - D10.csv')\n",
        "observed_data_C10 = {}\n",
        "\n",
        "# Iterate over each row in the DataFrame\n",
        "for i, row in enumerate(user_data10.itertuples(), start=0):\n",
        "    string_list= user_data10.at[i, 'Trial rt']\n",
        "    float_list = ast.literal_eval(string_list)\n",
        "    trial_data = {\n",
        "        'time': [str(round(float(rt), 4)) for rt in float_list],  # Convert trial rt to string format\n",
        "        'option': ast.literal_eval(row[5])  # Convert string representation of list to actual list\n",
        "    }\n",
        "\n",
        "    # Add the trial data to the observed_data_C1 dictionary with the key 'T{i}'\n",
        "    observed_data_C10[f'T{i}'] = trial_data\n",
        "\n",
        "# Print the transformed data\n",
        "print(observed_data_C10)"
      ],
      "metadata": {
        "id": "lDnGoaAZn15t",
        "colab": {
          "base_uri": "https://localhost:8080/"
        },
        "outputId": "7972efca-7469-4ca4-96c6-b209c7df6fe4"
      },
      "execution_count": null,
      "outputs": [
        {
          "output_type": "stream",
          "name": "stdout",
          "text": [
            "{'T0': {'time': ['4.3235', '8.9211', '9.1266', '9.3696', '9.6494', '14.03', '14.2565', '14.4825', '15.13', '15.8563', '20.0053', '20.2313', '20.5009', '21.3023', '25.5316', '25.9195', '26.1372', '26.6848', '27.2748', '32.8877', '33.1144', '38.5841', '38.7962', '38.9874', '44.4836', '44.7418', '44.9883', '45.8271', '49.9868', '50.2025', '50.3894', '51.6416', '57.0716', '57.3941', '57.789', '62.0813', '62.2975', '62.5402', '63.3331', '68.6399', '68.9053', '69.6162', '74.2396', '74.4923', '74.7696', '75.5704', '81.0258', '81.3293', '81.6794', '86.281', '86.65', '86.8513', '87.8075', '92.3625', '92.5716', '92.7695', '93.5752', '98.7547', '98.9768', '99.3244', '104.1194', '104.3604', '104.5527', '110.2975', '110.6135', '111.2037', '111.4917', '111.705', '116.0361', '116.2475', '116.4145', '117.0445', '117.7269'], 'option': ['space', 'left', 'left', 'left', 'left', 'right', 'right', 'right', 'right', 'right', 'left', 'left', 'left', 'left', 'right', 'right', 'right', 'right', 'right', 'right', 'right', 'left', 'left', 'left', 'right', 'right', 'right', 'right', 'right', 'right', 'right', 'right', 'space', 'space', 'space', 'left', 'left', 'left', 'left', 'left', 'left', 'left', 'left', 'left', 'left', 'left', 'space', 'space', 'space', 'left', 'left', 'left', 'left', 'left', 'left', 'left', 'left', 'right', 'right', 'right', 'left', 'left', 'left', 'right', 'right', 'space', 'space', 'space', 'left', 'left', 'left', 'left', 'left']}, 'T1': {'time': ['3.7362', '9.7799', '14.3877', '14.9172', '15.2746', '15.7552', '20.157', '21.2812', '21.5903', '26.2224', '26.5552', '27.9925', '32.7297', '33.0299', '33.6038', '38.8493', '39.0857', '39.3372', '44.4916', '44.739', '45.5307', '50.1446', '50.4189', '50.6', '56.0083', '56.277', '56.4924', '62.0679', '62.3397', '62.5781', '68.2513', '68.554', '68.8113', '73.9673', '74.1758', '74.3769', '79.5066', '80.0451', '80.6262', '81.0124', '81.6732', '87.2202', '87.5536', '92.139', '92.3917', '92.6439', '97.9891', '98.4238', '98.7442', '104.8272', '105.0624', '105.2546', '109.6415', '110.0254', '110.4565', '111.667', '116.0034', '116.4753', '117.4622'], 'option': ['space', 'space', 'left', 'left', 'left', 'left', 'right', 'right', 'right', 'left', 'left', 'left', 'left', 'left', 'left', 'right', 'right', 'right', 'left', 'left', 'left', 'left', 'left', 'left', 'left', 'left', 'left', 'right', 'right', 'right', 'right', 'right', 'right', 'left', 'left', 'left', 'right', 'right', 'right', 'right', 'right', 'left', 'left', 'left', 'left', 'left', 'right', 'right', 'right', 'left', 'left', 'left', 'left', 'left', 'left', 'left', 'right', 'right', 'right']}, 'T2': {'time': ['0.0831', '2.4884', '2.9556', '3.4614', '8.5285', '8.7455', '8.9365', '9.3263', '9.71', '14.2413', '14.4592', '14.6552', '15.4929', '15.8624', '20.2377', '20.4732', '20.6614', '21.6453', '26.9522', '27.1572', '27.3252', '27.7623', '33.2882', '33.4959', '33.6665', '33.8605', '39.1631', '39.6242', '44.7014', '44.9325', '45.1197', '45.4076', '50.7771', '50.9776', '51.155', '56.5251', '56.7439', '56.9148', '57.2636', '57.7472', '64.303', '65.3665', '67.9361', '68.1712', '68.3972', '69.1303', '69.6987', '75.193', '75.5504', '75.8597', '82.0461', '85.9966', '86.2506', '86.8482', '87.3283', '92.0066', '92.2582', '92.4806', '92.7559', '93.1626', '93.6146', '98.4369', '98.6639', '98.8474', '99.2365', '99.7176', '104.1013', '104.3278', '104.5242', '105.7233', '110.0202', '110.2733', '110.49', '112.1321', '116.3354', '116.6219', '116.9405', '117.6289'], 'option': ['space', 'space', 'space', 'space', 'space', 'space', 'space', 'space', 'space', 'space', 'space', 'space', 'space', 'space', 'space', 'space', 'space', 'space', 'space', 'space', 'space', 'space', 'space', 'space', 'space', 'space', 'left', 'left', 'right', 'right', 'right', 'right', 'right', 'right', 'right', 'left', 'left', 'left', 'left', 'left', 'space', 'space', 'left', 'left', 'left', 'left', 'left', 'right', 'right', 'right', 'right', 'left', 'left', 'left', 'left', 'left', 'left', 'left', 'left', 'left', 'left', 'right', 'right', 'right', 'right', 'right', 'right', 'right', 'right', 'right', 'left', 'left', 'left', 'left', 'left', 'left', 'left', 'left']}, 'T3': {'time': ['8.1382', '8.4954', '8.7993', '9.1364', '9.4601', '14.2102', '14.5389', '14.7699', '15.185', '20.0781', '20.3889', '20.641', '20.9337', '26.219', '26.449', '26.6818', '27.6268', '31.97', '32.2694', '32.5774', '33.8701', '38.0216', '38.3139', '38.491', '38.8768', '39.2057', '39.6592', '44.2204', '44.6154', '44.9366', '45.8341', '51.7793', '52.5416', '55.9696', '56.3102', '56.7032', '63.0014', '63.4759', '63.8147', '70.1779', '74.7362', '76.2056', '80.0202', '80.3299', '81.5422', '86.1794', '86.519', '87.3945', '92.1753', '92.9536', '98.9272', '104.0048', '104.3277', '104.6616', '110.4833', '111.2646', '111.5771', '111.8766', '112.7963', '117.383', '117.5893', '117.8099'], 'option': ['left', 'left', 'left', 'left', 'left', 'right', 'right', 'right', 'right', 'right', 'right', 'right', 'right', 'left', 'left', 'left', 'left', 'right', 'right', 'right', 'right', 'left', 'left', 'left', 'left', 'left', 'left', 'right', 'right', 'right', 'right', 'right', 'right', 'right', 'right', 'right', 'space', 'space', 'space', 'space', 'space', 'space', 'left', 'left', 'left', 'left', 'left', 'left', 'right', 'right', 'left', 'left', 'left', 'left', 'right', 'right', 'right', 'right', 'right', 'left', 'left', 'left']}, 'T4': {'time': ['3.0978', '8.0556', '9.7744', '14.4647', '20.1095', '20.4924', '21.8968', '26.0276', '26.3913', '26.8369', '32.1914', '32.5058', '32.749', '38.4072', '38.7399', '39.1737', '39.4057', '39.637', '44.0557', '44.2908', '44.5737', '50.2471', '50.5191', '50.7568', '56.6261', '57.0417', '57.7191', '62.0232', '62.2843', '62.5226', '68.1867', '68.504', '68.7464', '69.0899', '69.7964', '74.1315', '74.379', '74.6457', '75.754', '80.5647', '81.4607', '86.5325', '86.9755', '93.7766', '98.0086', '98.2965', '98.7138', '99.1775', '104.3062', '105.2686', '105.6456', '111.9114', '116.8133'], 'option': ['space', 'space', 'space', 'space', 'left', 'left', 'left', 'left', 'left', 'left', 'right', 'right', 'right', 'left', 'left', 'space', 'space', 'space', 'left', 'left', 'left', 'left', 'left', 'left', 'right', 'right', 'right', 'left', 'left', 'left', 'right', 'right', 'right', 'right', 'right', 'left', 'left', 'left', 'left', 'space', 'space', 'space', 'space', 'right', 'left', 'left', 'left', 'left', 'right', 'space', 'space', 'left', 'right']}, 'T5': {'time': ['-12.5445', '3.1611', '8.0514', '8.4479', '8.7101', '10.265', '14.065', '14.4919', '16.3442', '21.0342', '21.496', '26.2397', '26.5879', '32.0685', '32.3721', '32.7136', '39.5079', '39.8039', '39.8946', '44.4408', '44.9609', '45.6924', '51.371', '51.6727', '51.9977', '56.6583', '57.0322', '62.316', '62.5935', '63.4434', '68.6515', '68.9546', '69.2674', '69.5985', '74.1135', '74.426', '74.7583', '78.2112', '78.5301', '80.0331', '80.2799', '80.5294', '80.7752', '81.3734', '85.7805', '86.1589', '86.4777', '86.9569', '87.449', '88.0238', '92.646', '92.943', '93.2166', '93.9709', '99.5571', '99.7731', '106.4469', '106.7464', '106.9581', '110.2413', '110.535', '110.8237', '111.425', '111.7984', '116.7592', '117.0317', '117.3639', '117.7975'], 'option': ['space', 'space', 'left', 'left', 'left', 'left', 'left', 'left', 'left', 'left', 'left', 'left', 'left', 'left', 'left', 'left', 'right', 'right', 'right', 'left', 'left', 'left', 'left', 'left', 'left', 'left', 'left', 'space', 'space', 'space', 'right', 'right', 'right', 'right', 'left', 'left', 'left', 'left', 'left', 'left', 'left', 'left', 'left', 'left', 'space', 'space', 'space', 'space', 'space', 'space', 'space', 'space', 'space', 'space', 'space', 'space', 'space', 'space', 'space', 'left', 'left', 'left', 'left', 'left', 'space', 'space', 'space', 'space']}, 'T6': {'time': ['3.1812', '9.229', '15.0771', '20.8014', '26.7989', '32.9715', '39.0036', '44.7764', '50.7424', '57.0838', '63.6137', '69.0251', '74.1866', '80.9127', '87.153', '93.1853', '99.1678', '105.2992', '111.3761', '116.8675'], 'option': ['space', 'left', 'space', 'left', 'right', 'space', 'left', 'right', 'space', 'right', 'space', 'left', 'space', 'left', 'space', 'space', 'left', 'space', 'space', 'left']}, 'T7': {'time': ['3.0585', '8.9881', '14.9604', '20.7148', '27.4714', '33.2689', '38.7292', '44.8474', '52.0166', '56.0293', '61.9802', '63.5557', '68.9337', '73.8944', '74.3515', '74.7508', '75.4446', '80.1381', '81.3369', '86.9293', '93.8933', '94.6873', '98.011', '98.2885', '98.5915', '99.2162', '99.7605', '104.1912', '104.4643', '104.8581', '110.6175', '116.1668', '117.8345'], 'option': ['space', 'left', 'space', 'space', 'left', 'right', 'space', 'space', 'space', 'right', 'left', 'left', 'space', 'left', 'left', 'left', 'left', 'left', 'left', 'space', 'space', 'space', 'left', 'left', 'left', 'left', 'left', 'left', 'left', 'left', 'left', 'right', 'right']}, 'T8': {'time': ['4.0348', '8.6094', '14.4145', '20.6821', '26.5668', '27.8417', '32.5096', '33.4374', '38.6094', '39.6877', '44.177', '44.8535', '50.8176', '51.7087', '56.0119', '56.7969', '62.8579', '63.2967', '69.4747', '69.863', '74.355', '74.9764', '80.7355', '81.472', '87.2501', '87.6648', '92.2584', '98.7896', '105.171', '110.0215', '110.3782', '111.8203', '116.2381', '116.7097'], 'option': ['space', 'left', 'left', 'left', 'space', 'space', 'left', 'left', 'space', 'space', 'left', 'left', 'left', 'left', 'left', 'left', 'right', 'right', 'space', 'space', 'left', 'left', 'space', 'space', 'space', 'space', 'left', 'space', 'space', 'left', 'left', 'left', 'right', 'right']}, 'T9': {'time': ['4.607', '8.1757', '8.9159', '14.1441', '14.5172', '14.9979', '20.6937', '26.0838', '26.4836', '27.2681', '31.9503', '32.304', '33.0724', '38.9138', '44.203', '44.5483', '45.0746', '45.6804', '50.2269', '50.6103', '51.0509', '56.0652', '56.3689', '56.6313', '62.429', '62.7569', '63.054', '67.8848', '68.1543', '68.4519', '69.4127', '74.5502', '75.2613', '75.5643', '79.7545', '80.0633', '80.3616', '80.7508', '81.1647', '86.3946', '86.6866', '87.4999', '92.2131', '93.5835', '98.3525', '98.812', '103.4825', '103.9518', '104.2399', '104.8317', '105.3487', '110.5414', '110.8821', '111.3426', '116.1488'], 'option': ['space', 'left', 'left', 'left', 'left', 'left', 'space', 'right', 'right', 'right', 'left', 'left', 'left', 'space', 'right', 'right', 'right', 'right', 'right', 'right', 'right', 'left', 'left', 'left', 'space', 'space', 'space', 'left', 'left', 'left', 'left', 'left', 'left', 'left', 'space', 'space', 'space', 'space', 'space', 'left', 'left', 'left', 'left', 'left', 'right', 'right', 'space', 'space', 'space', 'space', 'space', 'space', 'space', 'space', 'left']}}\n"
          ]
        }
      ]
    },
    {
      "cell_type": "code",
      "source": [
        "user_data12=pd.read_csv('All data - D12.csv')\n",
        "observed_data_C12 = {}\n",
        "\n",
        "# Iterate over each row in the DataFrame\n",
        "for i, row in enumerate(user_data12.itertuples(), start=0):\n",
        "    string_list= user_data12.at[i, 'Trial rt']\n",
        "    float_list = ast.literal_eval(string_list)\n",
        "    trial_data = {\n",
        "        'time': [str(round(float(rt), 4)) for rt in float_list],  # Convert trial rt to string format\n",
        "        'option': ast.literal_eval(row[5])  # Convert string representation of list to actual list\n",
        "    }\n",
        "\n",
        "    # Add the trial data to the observed_data_C1 dictionary with the key 'T{i}'\n",
        "    observed_data_C12[f'T{i}'] = trial_data\n",
        "\n",
        "# Print the transformed data\n",
        "print(observed_data_C12)"
      ],
      "metadata": {
        "id": "7i1afn8ln2uP",
        "colab": {
          "base_uri": "https://localhost:8080/"
        },
        "outputId": "73998a90-91b3-4841-95b3-50006f4a8638"
      },
      "execution_count": null,
      "outputs": [
        {
          "output_type": "stream",
          "name": "stdout",
          "text": [
            "{'T0': {'time': ['2.4578', '8.1089', '14.0915', '20.2551', '26.337', '32.3331', '38.0899', '44.1201', '49.9173', '55.9798', '62.1631', '68.1453', '74.1759', '80.0071', '86.0419', '92.1704', '98.6973', '104.0693', '109.9927', '116.2552'], 'option': ['space', 'left', 'right', 'left', 'right', 'right', 'left', 'right', 'space', 'right', 'left', 'left', 'left', 'right', 'left', 'left', 'space', 'left', 'right', 'left']}, 'T1': {'time': ['2.2518', '8.5122', '14.2014', '20.1129', '26.4232', '32.0958', '38.0199', '44.1272', '50.3194', '56.2159', '62.0858', '68.0894', '74.9124', '80.7135', '86.1521', '92.0019', '98.0317', '104.007', '110.1306', '116.0603'], 'option': ['space', 'space', 'left', 'right', 'left', 'left', 'space', 'left', 'left', 'left', 'space', 'right', 'left', 'right', 'right', 'left', 'right', 'left', 'left', 'right']}, 'T2': {'time': ['2.4864', '8.2056', '14.134', '20.0425', '26.4433', '32.2781', '38.0121', '44.0598', '50.141', '55.9838', '62.0811', '68.1152', '74.1053', '80.1418', '86.0559', '92.1199', '98.0602', '104.1607', '109.9971', '115.9977'], 'option': ['space', 'right', 'left', 'left', 'right', 'left', 'left', 'right', 'right', 'left', 'right', 'left', 'space', 'right', 'space', 'left', 'right', 'right', 'left', 'left']}, 'T3': {'time': ['2.9154', '8.1471', '14.0975', '20.084', '26.9802', '32.0563', '37.9694', '44.0085', '50.1332', '55.9992', '62.2684', '68.0165', '73.0743', '74.3904', '80.4339', '86.2122', '92.1765', '98.0448', '104.3333', '110.1392', '116.1431'], 'option': ['space', 'right', 'right', 'right', 'space', 'right', 'left', 'space', 'right', 'right', 'right', 'left', 'right', 'right', 'left', 'left', 'space', 'right', 'left', 'right', 'left']}, 'T4': {'time': ['3.2298', '8.175', '14.167', '20.1494', '26.852', '32.1961', '38.3389', '44.2361', '50.4838', '56.1822', '62.1956', '68.4082', '74.1198', '80.0523', '86.2382', '92.3435', '98.1636', '98.4662', '104.0643', '110.1117', '116.052'], 'option': ['space', 'space', 'right', 'left', 'left', 'right', 'left', 'left', 'left', 'right', 'left', 'right', 'left', 'space', 'right', 'right', 'left', 'left', 'space', 'left', 'right']}, 'T5': {'time': ['2.7703', '8.0606', '14.2144', '20.0339', '26.098', '32.1183', '38.0299', '44.0792', '50.0133', '56.0401', '62.0309', '68.0426', '74.6663', '80.0005', '86.0597', '92.1826', '98.1367', '104.239', '110.1018', '116.0762'], 'option': ['space', 'right', 'left', 'right', 'left', 'left', 'right', 'left', 'left', 'left', 'space', 'right', 'right', 'left', 'right', 'right', 'left', 'right', 'left', 'right']}, 'T6': {'time': ['2.8957', '8.4888', '14.2503', '20.2844', '25.9871', '32.354', '38.0675', '44.0437', '50.3156', '56.2008', '62.2945', '68.4046', '74.1102', '80.3062', '86.4866', '92.0507', '98.1997', '104.2184', '110.4669', '116.3701'], 'option': ['space', 'left', 'right', 'left', 'space', 'right', 'space', 'right', 'right', 'right', 'space', 'left', 'right', 'left', 'left', 'right', 'left', 'right', 'right', 'left']}, 'T7': {'time': ['3.676', '8.2323', '14.6283', '20.2828', '26.0204', '32.2222', '38.2107', '44.0404', '50.4474', '56.0523', '62.2418', '68.0722', '74.0328', '80.317', '86.3574', '92.0822', '98.1765', '104.0446', '110.0203', '116.0627'], 'option': ['left', 'left', 'right', 'right', 'left', 'right', 'right', 'left', 'left', 'right', 'left', 'right', 'space', 'left', 'space', 'right', 'left', 'left', 'right', 'right']}, 'T8': {'time': ['2.3741', '8.2345', '14.1364', '20.2843', '26.0171', '32.3037', '38.183', '44.0461', '50.7114', '56.2185', '62.2273', '68.0568', '74.4194', '80.1173', '86.5065', '92.0163', '98.0749', '104.258', '110.2056', '116.1212'], 'option': ['space', 'left', 'left', 'left', 'right', 'left', 'right', 'space', 'left', 'left', 'left', 'right', 'left', 'right', 'right', 'space', 'left', 'right', 'left', 'right']}, 'T9': {'time': ['2.7142', '8.2255', '14.1074', '19.9972', '25.9928', '32.2078', '38.1045', '44.0824', '50.3898', '56.2692', '62.2052', '68.1656', '74.221', '80.0994', '86.0827', '92.124', '98.258', '104.0657', '112.0017', '116.1165'], 'option': ['space', 'space', 'left', 'right', 'right', 'left', 'right', 'right', 'right', 'left', 'right', 'left', 'right', 'space', 'left', 'left', 'right', 'space', 'left', 'right']}}\n"
          ]
        }
      ]
    },
    {
      "cell_type": "code",
      "source": [
        "user_data14=pd.read_csv('All data - D14.csv')\n",
        "observed_data_C14 = {}\n",
        "\n",
        "# Iterate over each row in the DataFrame\n",
        "for i, row in enumerate(user_data14.itertuples(), start=0):\n",
        "    string_list= user_data14.at[i, 'Trial rt']\n",
        "    float_list = ast.literal_eval(string_list)\n",
        "    trial_data = {\n",
        "        'time': [str(round(float(rt), 4)) for rt in float_list],  # Convert trial rt to string format\n",
        "        'option': ast.literal_eval(row[5])  # Convert string representation of list to actual list\n",
        "    }\n",
        "\n",
        "    # Add the trial data to the observed_data_C1 dictionary with the key 'T{i}'\n",
        "    observed_data_C14[f'T{i}'] = trial_data\n",
        "\n",
        "# Print the transformed data\n",
        "print(observed_data_C14)"
      ],
      "metadata": {
        "id": "UPd8onj6n3CG",
        "colab": {
          "base_uri": "https://localhost:8080/"
        },
        "outputId": "02de8da3-984c-4710-bbf2-aba44c171ff7"
      },
      "execution_count": null,
      "outputs": [
        {
          "output_type": "stream",
          "name": "stdout",
          "text": [
            "{'T0': {'time': ['3.9141', '9.1436', '14.6147', '20.8466', '26.9291', '32.784', '38.5399', '44.4388', '50.3049', '56.4225', '62.7179', '68.7785', '74.6045', '80.4062', '87.9943', '92.468', '98.6566', '104.9017', '110.9442', '116.467'], 'option': ['right', 'left', 'right', 'left', 'right', 'right', 'left', 'right', 'right', 'right', 'left', 'left', 'space', 'right', 'left', 'left', 'right', 'left', 'right', 'left']}, 'T1': {'time': ['4.3948', '9.4983', '14.6264', '20.4528', '27.2374', '32.2632', '38.5807', '44.9228', '50.6048', '56.6184', '62.4767', '68.2802', '74.5487', '80.1813', '86.3459', '92.9123', '100.0463', '104.7035', '110.1295', '116.5449'], 'option': ['space', 'right', 'left', 'right', 'space', 'left', 'right', 'left', 'left', 'left', 'right', 'right', 'left', 'right', 'right', 'left', 'right', 'left', 'left', 'right']}, 'T2': {'time': ['3.3406', '8.6258', '15.1237', '20.4944', '26.5598', '32.7047', '38.413', '45.1506', '50.6207', '57.9275', '62.8658', '68.479', '74.7941', '80.4993', '86.4152', '91.8087', '98.2771', '105.0425', '110.4395', '116.1803'], 'option': ['right', 'right', 'left', 'left', 'right', 'left', 'left', 'right', 'right', 'left', 'right', 'left', 'space', 'right', 'space', 'left', 'right', 'right', 'left', 'left']}, 'T3': {'time': ['3.5015', '9.0134', '14.3582', '20.3911', '26.8216', '32.7788', '38.7664', '44.8251', '50.8057', '56.3634', '62.3936', '69.0653', '74.4332', '80.8378', '86.2604', '93.0479', '99.0205', '104.9841', '110.7141', '117.0582'], 'option': ['left', 'right', 'right', 'right', 'left', 'right', 'left', 'space', 'right', 'right', 'space', 'left', 'right', 'left', 'left', 'right', 'right', 'left', 'right', 'left']}, 'T4': {'time': ['3.1414', '8.9461', '14.5062', '20.0294', '26.6089', '32.3948', '38.6743', '44.4048', '51.1563', '56.8205', '63.2046', '69.1513', '74.7757', '80.6655', '86.6562', '92.5774', '98.5908', '104.6077', '110.9409', '115.3929'], 'option': ['space', 'space', 'right', 'left', 'left', 'right', 'left', 'left', 'left', 'right', 'left', 'right', 'left', 'space', 'right', 'right', 'left', 'space', 'left', 'right']}, 'T5': {'time': ['3.2084', '8.6006', '14.9326', '20.4953', '26.535', '32.2712', '38.3591', '44.1747', '50.3767', '57.1105', '62.8804', '68.5076', '74.722', '80.5849', '87.0862', '92.3509', '98.8843', '104.9328', '110.7289', '116.2184'], 'option': ['space', 'right', 'left', 'right', 'left', 'left', 'right', 'left', 'left', 'left', 'space', 'right', 'right', 'left', 'right', 'right', 'left', 'right', 'left', 'right']}, 'T6': {'time': ['3.7626', '8.6638', '14.7382', '20.271', '26.3411', '32.5627', '38.5681', '44.4024', '50.5182', '56.1371', '62.5195', '68.4684', '74.707', '80.474', '86.4478', '92.5823', '99.8225', '104.4177', '110.5308', '116.1279'], 'option': ['left', 'left', 'right', 'left', 'space', 'right', 'space', 'right', 'right', 'right', 'space', 'left', 'right', 'left', 'left', 'right', 'left', 'right', 'right', 'left']}, 'T7': {'time': ['3.1286', '8.4142', '14.5886', '20.3282', '26.3837', '32.6221', '38.3334', '45.165', '50.6988', '56.595', '62.6669', '68.3783', '75.6333', '80.4277', '86.9701', '93.5572', '98.949', '105.066', '110.3996', '116.6144'], 'option': ['space', 'left', 'right', 'right', 'left', 'right', 'right', 'left', 'left', 'right', 'left', 'right', 'left', 'left', 'space', 'right', 'left', 'left', 'right', 'right']}, 'T8': {'time': ['3.1934', '8.4902', '14.5308', '21.1253', '26.8429', '32.4272', '38.9738', '44.4592', '51.2682', '56.7358', '62.4437', '68.4079', '74.4749', '80.7018', '86.209', '92.1813', '98.8116', '105.771', '110.4996', '116.6979'], 'option': ['space', 'left', 'left', 'left', 'right', 'left', 'right', 'space', 'left', 'left', 'left', 'right', 'left', 'right', 'right', 'space', 'left', 'right', 'left', 'right']}, 'T9': {'time': ['4.1345', '8.4162', '14.7927', '20.8303', '27.2541', '32.9901', '38.5793', '45.1818', '51.4686', '56.2279', '62.3699', '68.2712', '74.7229', '80.5287', '86.6409', '92.9664', '98.9037', '104.7166', '110.7144', '117.0366'], 'option': ['space', 'left', 'left', 'right', 'right', 'left', 'right', 'right', 'right', 'left', 'right', 'left', 'right', 'space', 'left', 'left', 'right', 'space', 'space', 'right']}}\n"
          ]
        }
      ]
    },
    {
      "cell_type": "code",
      "source": [
        "user_data16=pd.read_csv('All data - D16.csv')\n",
        "observed_data_C16 = {}\n",
        "\n",
        "# Iterate over each row in the DataFrame\n",
        "for i, row in enumerate(user_data16.itertuples(), start=0):\n",
        "    string_list= user_data16.at[i, 'Trial rt']\n",
        "    float_list = ast.literal_eval(string_list)\n",
        "    trial_data = {\n",
        "        'time': [str(round(float(rt), 4)) for rt in float_list],  # Convert trial rt to string format\n",
        "        'option': ast.literal_eval(row[5])  # Convert string representation of list to actual list\n",
        "    }\n",
        "\n",
        "    # Add the trial data to the observed_data_C1 dictionary with the key 'T{i}'\n",
        "    observed_data_C16[f'T{i}'] = trial_data\n",
        "\n",
        "# Print the transformed data\n",
        "print(observed_data_C16)"
      ],
      "metadata": {
        "id": "WeUGV4-9n3cY",
        "colab": {
          "base_uri": "https://localhost:8080/"
        },
        "outputId": "f931ceb1-3243-4259-a966-8ec540b2725a"
      },
      "execution_count": null,
      "outputs": [
        {
          "output_type": "stream",
          "name": "stdout",
          "text": [
            "{'T0': {'time': ['3.9227', '8.3045', '14.2582', '20.3828', '26.2269', '32.1826', '38.2537', '44.2962', '50.362', '56.384', '62.3148', '68.4491', '74.4779', '80.1287', '86.2321', '92.3111', '98.599', '104.6428', '110.7149', '116.4566'], 'option': ['right', 'left', 'right', 'left', 'right', 'right', 'left', 'right', 'right', 'right', 'space', 'left', 'left', 'right', 'left', 'left', 'right', 'left', 'right', 'left']}, 'T1': {'time': ['2.7561', '8.3567', '14.2241', '20.1746', '26.1962', '32.3228', '38.2261', '44.5443', '50.4475', '56.5656', '62.6312', '68.7795', '74.5292', '80.2981', '86.3324', '92.9539', '98.3031', '105.4744', '110.1508', '116.6996'], 'option': ['space', 'right', 'left', 'right', 'space', 'left', 'space', 'left', 'left', 'left', 'space', 'right', 'left', 'right', 'right', 'left', 'right', 'left', 'left', 'right']}, 'T2': {'time': ['3.5607', '9.2623', '15.0606', '20.3164', '26.3303', '32.8904', '38.1661', '44.3527', '50.4066', '57.0764', '62.281', '69.2592', '74.3276', '80.1856', '86.5994', '92.476', '99.0658', '104.2306', '110.081', '116.4311'], 'option': ['space', 'right', 'left', 'left', 'right', 'left', 'left', 'right', 'right', 'left', 'right', 'left', 'space', 'right', 'space', 'left', 'left', 'right', 'left', 'left']}, 'T3': {'time': ['3.5467', '8.3439', '14.239', '20.285', '26.2827', '32.3347', '38.4962', '44.6352', '50.5223', '56.3129', '62.3961', '68.4467', '74.4433', '80.9219', '86.5563', '92.4203', '97.1109', '98.9461', '104.2587', '111.0583', '116.588'], 'option': ['space', 'right', 'right', 'right', 'left', 'right', 'left', 'left', 'right', 'right', 'right', 'left', 'right', 'left', 'left', 'space', 'right', 'right', 'left', 'right', 'left']}, 'T4': {'time': ['3.382', '8.4192', '13.2411', '14.2465', '20.5679', '26.4457', '32.1955', '38.7489', '44.6305', '50.8054', '56.4341', '62.6052', '68.4997', '74.8458', '80.4301', '86.1689', '92.29', '98.3833', '104.3943', '110.6275', '116.4265'], 'option': ['space', 'space', 'right', 'right', 'left', 'left', 'right', 'left', 'left', 'left', 'right', 'left', 'right', 'left', 'space', 'right', 'right', 'left', 'space', 'left', 'right']}, 'T5': {'time': ['2.8544', '8.5194', '14.4872', '19.6206', '20.3889', '26.4041', '32.4636', '39.2257', '44.411', '50.3873', '56.4104', '62.9139', '68.5263', '74.9408', '80.3304', '86.1836', '92.2946', '98.4194', '104.2295', '110.2884', '115.4075', '116.3429'], 'option': ['space', 'space', 'left', 'right', 'right', 'left', 'left', 'right', 'left', 'left', 'left', 'space', 'right', 'right', 'left', 'right', 'right', 'left', 'right', 'left', 'right', 'right']}, 'T6': {'time': ['3.1329', '8.823', '14.3623', '20.4159', '26.6579', '32.3523', '39.1224', '44.6354', '50.27', '56.4343', '62.4839', '68.6205', '74.3752', '80.4672', '86.3853', '92.3153', '98.94', '103.185', '104.1242', '110.2382', '116.6351'], 'option': ['space', 'space', 'right', 'left', 'space', 'right', 'space', 'right', 'right', 'right', 'space', 'left', 'right', 'left', 'left', 'right', 'left', 'right', 'right', 'right', 'left']}, 'T7': {'time': ['3.14', '8.5384', '14.7191', '20.1689', '26.9082', '32.7035', '38.5862', '44.9163', '50.5406', '56.3798', '62.7682', '68.3106', '74.6856', '80.6022', '86.4365', '92.3795', '98.5648', '104.4746', '110.4266', '116.6474'], 'option': ['space', 'left', 'right', 'right', 'left', 'right', 'right', 'left', 'left', 'right', 'left', 'right', 'space', 'left', 'space', 'right', 'left', 'left', 'right', 'right']}, 'T8': {'time': ['3.4424', '9.0902', '14.3169', '20.4734', '26.168', '32.3926', '38.4151', '44.6138', '50.2681', '56.1745', '62.5357', '68.7039', '75.1088', '80.5609', '86.4952', '92.2649', '97.5008', '98.5833', '104.4283', '110.4832', '116.0633', '116.9876'], 'option': ['space', 'space', 'left', 'left', 'right', 'left', 'right', 'space', 'left', 'left', 'left', 'right', 'left', 'right', 'right', 'space', 'left', 'left', 'right', 'left', 'right', 'right']}, 'T9': {'time': ['3.9057', '8.7775', '14.4777', '20.9031', '26.3968', '32.4312', '38.5056', '44.2384', '50.344', '56.2726', '62.5936', '69.314', '75.1978', '80.2682', '86.5947', '92.2976', '98.1597', '104.4647', '111.6672', '117.3327'], 'option': ['space', 'right', 'left', 'right', 'right', 'left', 'right', 'right', 'right', 'left', 'right', 'left', 'space', 'space', 'left', 'left', 'right', 'space', 'space', 'right']}}\n"
          ]
        }
      ]
    },
    {
      "cell_type": "code",
      "source": [
        "user_data18=pd.read_csv('All data - D18.csv')\n",
        "observed_data_C18 = {}\n",
        "\n",
        "# Iterate over each row in the DataFrame\n",
        "for i, row in enumerate(user_data18.itertuples(), start=0):\n",
        "    string_list= user_data18.at[i, 'Trial rt']\n",
        "    float_list = ast.literal_eval(string_list)\n",
        "    trial_data = {\n",
        "        'time': [str(round(float(rt), 4)) for rt in float_list],  # Convert trial rt to string format\n",
        "        'option': ast.literal_eval(row[5])  # Convert string representation of list to actual list\n",
        "    }\n",
        "\n",
        "    # Add the trial data to the observed_data_C1 dictionary with the key 'T{i}'\n",
        "    observed_data_C18[f'T{i}'] = trial_data\n",
        "\n",
        "# Print the transformed data\n",
        "print(observed_data_C18)"
      ],
      "metadata": {
        "id": "FNmG8xxVn300",
        "colab": {
          "base_uri": "https://localhost:8080/"
        },
        "outputId": "e7adbf1a-7cc8-4c40-cf5f-ceb6413b912f"
      },
      "execution_count": null,
      "outputs": [
        {
          "output_type": "stream",
          "name": "stdout",
          "text": [
            "{'T0': {'time': ['8.2516', '14.0663', '20.1041', '26.2973', '32.133', '38.0955', '44.1407', '50.1514', '56.1482', '57.9553', '62.9683', '68.1309', '74.0858', '80.5374', '86.0881', '92.0566', '98.1022', '104.1639', '110.3293', '116.1488'], 'option': ['left', 'right', 'left', 'right', 'right', 'left', 'right', 'right', 'right', 'right', 'space', 'left', 'left', 'right', 'left', 'left', 'right', 'left', 'right', 'left']}, 'T1': {'time': ['2.1756', '8.1157', '14.0831', '20.1015', '26.3901', '32.3128', '38.3043', '44.0842', '50.0663', '56.0927', '62.2467', '68.1946', '74.0697', '80.1022', '86.109', '92.5564', '98.1934', '104.0653', '110.0859', '116.0823'], 'option': ['space', 'right', 'left', 'right', 'space', 'left', 'space', 'left', 'left', 'left', 'space', 'right', 'left', 'right', 'right', 'left', 'right', 'left', 'left', 'right']}, 'T2': {'time': ['2.5486', '8.3766', '14.1368', '20.1688', '26.4996', '32.348', '38.3349', '44.1767', '50.066', '56.1455', '62.1679', '68.155', '74.8006', '80.1121', '86.241', '92.1671', '98.4673', '104.0757', '110.1335', '116.1621'], 'option': ['space', 'right', 'left', 'left', 'right', 'left', 'left', 'right', 'right', 'left', 'right', 'left', 'space', 'right', 'space', 'left', 'right', 'right', 'left', 'left']}, 'T3': {'time': ['3.037', '8.1396', '14.1728', '20.1322', '26.2153', '32.0771', '38.2109', '44.1471', '50.1267', '56.16', '62.0958', '68.0885', '74.151', '80.0595', '86.0372', '92.3967', '98.2137', '104.1032', '110.1214', '116.1066'], 'option': ['space', 'right', 'right', 'right', 'left', 'right', 'left', 'space', 'right', 'right', 'right', 'left', 'right', 'left', 'left', 'space', 'right', 'left', 'right', 'left']}, 'T4': {'time': ['3.4328', '9.2418', '14.2063', '18.5258', '20.1252', '26.1378', '32.2009', '38.0798', '44.0878', '50.1102', '56.1436', '62.2394', '68.1479', '74.1352', '80.1595', '86.2007', '92.2244', '98.1714', '104.1114', '110.0652', '116.145'], 'option': ['space', 'space', 'right', 'left', 'left', 'left', 'right', 'left', 'left', 'left', 'right', 'left', 'right', 'left', 'space', 'right', 'right', 'left', 'space', 'left', 'right']}, 'T5': {'time': ['4.0945', '8.1166', '14.0776', '20.1015', '26.0738', '32.0893', '38.139', '44.0967', '50.0472', '56.1561', '62.787', '68.1332', '74.0996', '80.0639', '86.0858', '92.084', '98.0958', '104.0781', '110.1505', '116.1062'], 'option': ['space', 'right', 'left', 'right', 'left', 'left', 'right', 'left', 'left', 'left', 'space', 'right', 'right', 'left', 'right', 'right', 'left', 'right', 'left', 'right']}, 'T6': {'time': ['2.5565', '8.0788', '14.0666', '20.04', '26.112', '32.0885', '38.0687', '44.1081', '50.0492', '56.0976', '62.1628', '68.0861', '74.1288', '80.072', '86.1033', '92.161', '98.1423', '104.0908', '110.0822', '116.0638'], 'option': ['space', 'left', 'right', 'left', 'space', 'right', 'space', 'right', 'right', 'right', 'space', 'left', 'right', 'left', 'left', 'right', 'left', 'right', 'right', 'left']}, 'T7': {'time': ['2.2449', '8.1138', '14.1107', '20.1213', '26.2912', '32.1748', '38.152', '44.1336', '50.0963', '56.0944', '62.0854', '68.0865', '74.0796', '80.1228', '86.1084', '92.0987', '98.1081', '104.1025', '110.2566', '116.0446'], 'option': ['space', 'left', 'right', 'right', 'left', 'right', 'right', 'left', 'left', 'right', 'left', 'right', 'space', 'left', 'space', 'right', 'left', 'left', 'right', 'right']}, 'T8': {'time': ['2.2426', '8.1598', '14.0902', '20.2358', '26.1108', '32.076', '38.0899', '44.496', '50.1451', '56.0596', '62.1382', '68.1456', '74.0939', '80.1495', '86.0376', '92.1242', '98.1377', '104.0889', '110.1015', '116.1128'], 'option': ['space', 'left', 'left', 'left', 'right', 'left', 'right', 'space', 'left', 'left', 'left', 'right', 'left', 'right', 'right', 'space', 'left', 'right', 'left', 'right']}, 'T9': {'time': ['2.4915', '8.1299', '14.1488', '20.085', '26.0529', '32.0572', '38.3849', '44.4013', '50.0889', '56.0951', '62.1472', '68.1213', '74.3357', '80.0926', '86.121', '92.0787', '98.0918', '104.037', '111.1985', '116.1018'], 'option': ['space', 'space', 'left', 'right', 'right', 'left', 'right', 'right', 'right', 'left', 'right', 'left', 'right', 'space', 'left', 'left', 'right', 'space', 'space', 'right']}}\n"
          ]
        }
      ]
    },
    {
      "cell_type": "code",
      "source": [
        "user_data20=pd.read_csv('All data - D20.csv')\n",
        "observed_data_C20 = {}\n",
        "\n",
        "# Iterate over each row in the DataFrame\n",
        "for i, row in enumerate(user_data20.itertuples(), start=0):\n",
        "    string_list= user_data20.at[i, 'Trial rt']\n",
        "    float_list = ast.literal_eval(string_list)\n",
        "    trial_data = {\n",
        "        'time': [str(round(float(rt), 4)) for rt in float_list],  # Convert trial rt to string format\n",
        "        'option': ast.literal_eval(row[5])  # Convert string representation of list to actual list\n",
        "    }\n",
        "\n",
        "    # Add the trial data to the observed_data_C1 dictionary with the key 'T{i}'\n",
        "    observed_data_C20[f'T{i}'] = trial_data\n",
        "\n",
        "# Print the transformed data\n",
        "print(observed_data_C20)"
      ],
      "metadata": {
        "id": "_8qKA1Zxn4NT",
        "colab": {
          "base_uri": "https://localhost:8080/"
        },
        "outputId": "9a8dc3aa-6558-4653-cce4-d571fa4509e8"
      },
      "execution_count": null,
      "outputs": [
        {
          "output_type": "stream",
          "name": "stdout",
          "text": [
            "{'T0': {'time': ['4.1712', '9.7952', '14.3228', '21.346', '26.2845', '32.2208', '38.1377', '44.3922', '50.2538', '56.1277', '62.2906', '68.222', '75.1636', '80.1307', '86.9606', '92.1274', '98.6762', '104.2799', '110.3512', '116.3483'], 'option': ['space', 'left', 'right', 'left', 'right', 'right', 'left', 'right', 'right', 'right', 'space', 'left', 'left', 'right', 'left', 'left', 'right', 'left', 'right', 'left']}, 'T1': {'time': ['3.2986', '8.3425', '14.284', '20.3144', '26.1662', '32.1537', '38.0919', '44.2208', '51.3589', '55.5549', '57.6758', '62.1942', '68.2551', '74.8156', '80.6457', '86.1381', '92.215', '98.3848', '104.1858', '110.1873', '116.6559'], 'option': ['space', 'right', 'left', 'right', 'space', 'left', 'space', 'left', 'space', 'left', 'left', 'space', 'right', 'left', 'right', 'right', 'left', 'right', 'left', 'left', 'right']}, 'T2': {'time': ['2.8817', '8.1482', '14.218', '20.7214', '26.1615', '32.4978', '38.176', '44.5636', '50.3021', '56.3638', '62.6374', '68.2565', '74.2382', '80.1262', '86.1342', '92.1983', '98.4229', '104.366', '110.8303', '116.1318'], 'option': ['space', 'right', 'left', 'left', 'right', 'left', 'left', 'right', 'right', 'left', 'right', 'left', 'space', 'right', 'space', 'left', 'right', 'right', 'left', 'left']}, 'T3': {'time': ['3.3704', '8.2415', '14.1174', '20.3927', '26.1713', '32.1347', '38.6273', '44.1712', '50.2292', '57.1453', '62.8277', '68.3157', '74.4312', '80.1179', '86.5301', '92.4107', '98.1284', '104.8191', '110.2149', '116.4231'], 'option': ['space', 'right', 'right', 'right', 'left', 'right', 'left', 'space', 'right', 'right', 'right', 'left', 'right', 'left', 'left', 'space', 'right', 'left', 'right', 'left']}, 'T4': {'time': ['3.3754', '9.2305', '14.245', '18.8417', '20.0633', '26.4048', '32.1314', '38.5419', '44.5465', '50.4873', '56.1834', '62.7509', '68.5204', '74.5394', '80.7673', '86.6585', '92.3337', '98.3457', '104.7194', '110.2021', '116.9838'], 'option': ['space', 'space', 'right', 'left', 'left', 'left', 'right', 'left', 'left', 'left', 'right', 'left', 'right', 'left', 'space', 'right', 'right', 'left', 'space', 'left', 'right']}, 'T5': {'time': ['2.8442', '8.3958', '14.2788', '20.5263', '26.4092', '32.7256', '38.1588', '44.4712', '50.1294', '56.1342', '62.2317', '68.1153', '74.2038', '81.0466', '86.5732', '92.0195', '98.2413', '104.5357', '111.6899', '116.7768'], 'option': ['space', 'right', 'left', 'right', 'left', 'left', 'right', 'left', 'left', 'left', 'space', 'right', 'right', 'left', 'right', 'right', 'left', 'right', 'left', 'right']}, 'T6': {'time': ['3.4952', '8.7743', '14.6525', '20.1385', '26.1552', '32.2246', '38.5627', '44.5215', '50.4483', '56.3762', '62.3942', '68.1753', '74.6315', '81.2099', '86.5698', '92.4869', '98.6422', '104.8586', '110.7752', '116.5997'], 'option': ['space', 'left', 'right', 'left', 'space', 'right', 'space', 'right', 'right', 'right', 'space', 'left', 'right', 'left', 'left', 'right', 'left', 'right', 'right', 'left']}, 'T7': {'time': ['3.2061', '8.6344', '14.2119', '20.3335', '25.7501', '26.9576', '31.2978', '32.0897', '38.5875', '44.7589', '50.4354', '56.532', '62.6712', '68.4601', '74.4006', '80.7579', '85.9754', '92.7006', '99.2298', '104.5085', '111.6479', '116.7029'], 'option': ['space', 'left', 'right', 'right', 'left', 'left', 'right', 'right', 'right', 'left', 'left', 'right', 'left', 'right', 'space', 'left', 'space', 'right', 'left', 'left', 'right', 'right']}, 'T8': {'time': ['4.1107', '8.4464', '14.1553', '20.3382', '26.3867', '32.5961', '38.0089', '44.274', '50.4165', '57.1361', '62.612', '68.7923', '74.4156', '80.4302', '86.4276', '93.1913', '98.3586', '104.2047', '110.7722', '116.9858'], 'option': ['space', 'left', 'left', 'left', 'right', 'left', 'right', 'space', 'left', 'left', 'left', 'right', 'left', 'right', 'right', 'space', 'left', 'right', 'left', 'right']}, 'T9': {'time': ['4.1382', '9.4557', '14.4476', '20.8257', '26.515', '31.897', '37.8371', '44.4587', '50.2586', '56.3124', '62.7534', '69.9253', '74.296', '80.2109', '86.0686', '92.5202', '98.1162', '104.1827', '111.3398', '116.3198'], 'option': ['left', 'space', 'left', 'right', 'right', 'left', 'right', 'right', 'right', 'left', 'right', 'left', 'right', 'space', 'left', 'left', 'right', 'space', 'left', 'right']}}\n"
          ]
        }
      ]
    },
    {
      "cell_type": "code",
      "source": [
        "user_data21=pd.read_csv('All data - D21.csv')\n",
        "observed_data_C21 = {}\n",
        "\n",
        "# Iterate over each row in the DataFrame\n",
        "for i, row in enumerate(user_data21.itertuples(), start=0):\n",
        "    string_list= user_data21.at[i, 'Trial rt']\n",
        "    float_list = ast.literal_eval(string_list)\n",
        "    trial_data = {\n",
        "        'time': [str(round(float(rt), 4)) for rt in float_list],  # Convert trial rt to string format\n",
        "        'option': ast.literal_eval(row[5])  # Convert string representation of list to actual list\n",
        "    }\n",
        "\n",
        "    # Add the trial data to the observed_data_C1 dictionary with the key 'T{i}'\n",
        "    observed_data_C21[f'T{i}'] = trial_data\n",
        "\n",
        "# Print the transformed data\n",
        "print(observed_data_C21)"
      ],
      "metadata": {
        "id": "DWI9PGnzn4n1",
        "colab": {
          "base_uri": "https://localhost:8080/"
        },
        "outputId": "9b3a5c71-f0a7-4d02-9140-4b756f088f5a"
      },
      "execution_count": null,
      "outputs": [
        {
          "output_type": "stream",
          "name": "stdout",
          "text": [
            "{'T0': {'time': ['2.1184', '2.3452', '2.7083', '2.9054', '3.1176', '3.3327', '3.5537', '3.8121', '7.806', '8.0337', '8.2251', '8.3994', '8.5403', '8.7285', '8.9995', '9.429', '9.7022', '10.034', '10.3169', '12.3128', '12.5037', '12.8122', '13.1628', '13.4082', '13.6507', '13.8746', '14.0774', '14.3258', '14.527', '14.743', '14.9797', '15.2075', '15.4799', '15.7061', '15.9358', '19.9603', '20.4106', '20.5957', '20.8437', '21.3614', '21.6595', '21.9172', '22.1989', '25.5261', '25.8844', '26.0884', '26.2808', '26.4829', '26.7047', '26.9221', '27.1341', '27.3611', '27.5991', '27.9181', '28.1941', '31.5829', '31.8297', '32.0478', '32.244', '32.4459', '32.6507', '32.8875', '33.1008', '33.3328', '33.5647', '33.8522', '37.9841', '38.5887', '38.831', '39.2839', '39.6657', '40.1318', '42.7144', '42.986', '43.203', '43.4555', '43.653', '43.8431', '44.0367', '44.247', '44.4685', '44.6711', '44.8841', '45.1403', '45.3798', '48.4865', '48.7344', '48.9711', '49.1885', '49.395', '49.5871', '49.934', '50.1515', '50.3892', '50.5963', '51.108', '51.3757', '55.1597', '55.4205', '55.663', '55.8602', '56.002', '56.2388', '56.4654', '56.6825', '56.8849', '57.0839', '57.5384', '57.7875', '60.7419', '60.9825', '61.1452', '61.4066', '61.6134', '61.836', '62.045', '62.2655', '62.4788', '62.7016', '62.9293', '63.1911', '63.4528', '64.0579', '68.0045', '68.1723', '68.3999', '68.6102', '68.8217', '69.0406', '69.2423', '69.4683', '69.928', '70.1046', '74.0165', '74.2589', '74.4612', '79.9935', '80.2435', '80.457', '80.6707', '80.9025', '81.3213', '84.5744', '86.0263', '91.9602', '97.9757', '103.9558', '104.6298', '109.9224', '116.0147', '117.5104'], 'option': ['space', 'space', 'space', 'space', 'space', 'space', 'space', 'space', 'left', 'left', 'left', 'left', 'left', 'left', 'left', 'left', 'left', 'left', 'left', 'right', 'right', 'right', 'right', 'right', 'right', 'right', 'right', 'right', 'right', 'right', 'right', 'right', 'right', 'right', 'right', 'left', 'left', 'left', 'left', 'left', 'left', 'left', 'left', 'right', 'right', 'right', 'right', 'right', 'right', 'right', 'right', 'right', 'right', 'right', 'right', 'right', 'right', 'right', 'right', 'right', 'right', 'right', 'right', 'right', 'right', 'right', 'left', 'left', 'left', 'left', 'left', 'left', 'right', 'right', 'right', 'right', 'right', 'right', 'right', 'right', 'right', 'right', 'right', 'right', 'right', 'right', 'right', 'right', 'right', 'right', 'right', 'right', 'right', 'right', 'right', 'right', 'right', 'right', 'right', 'right', 'right', 'right', 'right', 'right', 'right', 'right', 'right', 'right', 'right', 'left', 'left', 'left', 'left', 'left', 'left', 'left', 'left', 'left', 'left', 'left', 'left', 'left', 'left', 'left', 'left', 'left', 'left', 'left', 'left', 'left', 'left', 'left', 'left', 'right', 'right', 'right', 'right', 'right', 'right', 'right', 'right', 'right', 'right', 'left', 'left', 'right', 'left', 'left', 'right', 'left', 'left']}, 'T1': {'time': ['2.793', '8.0162', '8.7164', '13.9685', '14.4181', '21.1024', '26.5165', '32.1735', '38.7508', '44.1308', '50.014', '51.254', '55.9066', '62.2131', '69.295', '74.1464', '79.2539', '80.0465', '86.0373', '91.9761', '93.0743', '98.2717', '104.0138', '110.207', '116.1342'], 'option': ['space', 'right', 'right', 'left', 'left', 'right', 'space', 'left', 'space', 'left', 'left', 'left', 'left', 'left', 'space', 'left', 'right', 'right', 'right', 'left', 'left', 'right', 'left', 'left', 'right']}, 'T2': {'time': ['2.9913', '7.9915', '13.9141', '19.9189', '26.0027', '32.1124', '38.0211', '43.9696', '49.9445', '55.9758', '62.0624', '68.0027', '74.0417', '80.7521', '86.2669', '91.99', '97.952', '104.8661', '110.0101', '115.9611'], 'option': ['space', 'right', 'left', 'left', 'right', 'left', 'left', 'right', 'right', 'left', 'right', 'left', 'space', 'right', 'space', 'left', 'right', 'right', 'left', 'left']}, 'T3': {'time': ['2.7616', '6.6254', '7.9425', '14.4724', '20.1732', '20.5924', '25.9685', '32.909', '33.6101', '38.0514', '44.2586', '45.4617', '50.554', '56.2757', '61.9597', '63.6315', '68.0873', '68.5918', '74.1262', '80.0689', '85.9341', '87.3019', '92.0376', '92.4312', '98.4695', '104.0402', '110.3566', '116.0633'], 'option': ['space', 'right', 'right', 'space', 'right', 'right', 'left', 'right', 'right', 'left', 'space', 'space', 'right', 'right', 'right', 'right', 'left', 'left', 'right', 'left', 'left', 'left', 'space', 'space', 'right', 'left', 'right', 'left']}, 'T4': {'time': ['2.3539', '8.1807', '14.0307', '14.4685', '20.8147', '26.3808', '32.0521', '33.5495', '37.9565', '44.2035', '49.8697', '50.6429', '55.9922', '61.8873', '67.9434', '68.8071', '74.8354', '79.911', '80.7833', '86.0486', '91.9113', '92.3456', '97.8867', '98.5625', '104.3364', '104.7202', '109.9452', '116.6886'], 'option': ['space', 'space', 'right', 'right', 'left', 'left', 'right', 'right', 'left', 'left', 'left', 'left', 'right', 'left', 'right', 'right', 'left', 'space', 'space', 'right', 'right', 'right', 'space', 'space', 'space', 'space', 'left', 'right']}, 'T5': {'time': ['2.5683', '9.1881', '14.0009', '14.6834', '19.9878', '25.8483', '31.8133', '37.6853', '44.1243', '49.9292', '55.7735', '56.8758', '61.7016', '68.0441', '74.1048', '79.9688', '85.7739', '91.8205', '92.4774', '97.7524', '104.7507', '109.8135', '116.0808'], 'option': ['space', 'space', 'left', 'left', 'right', 'left', 'left', 'right', 'left', 'left', 'left', 'left', 'space', 'right', 'right', 'left', 'right', 'right', 'right', 'left', 'right', 'left', 'right']}, 'T6': {'time': ['2.9639', '8.1531', '13.881', '20.0443', '25.9526', '32.2178', '38.0122', '44.0889', '49.8979', '51.5515', '56.0505', '56.7223', '62.5146', '67.9077', '74.145', '80.0208', '86.0115', '91.9141', '97.9434', '104.0591', '110.1512', '115.9324'], 'option': ['space', 'left', 'right', 'left', 'space', 'right', 'space', 'right', 'right', 'right', 'right', 'right', 'left', 'left', 'right', 'left', 'left', 'right', 'left', 'right', 'right', 'left']}, 'T7': {'time': ['3.5167', '8.0241', '14.0042', '19.9832', '25.9363', '26.794', '32.0729', '38.8221', '43.9242', '49.9706', '55.9697', '61.976', '68.4981', '74.0468', '74.9216', '80.0251', '86.0209', '86.5095', '91.9717', '93.4702', '98.1675', '99.0778', '104.1033', '110.2202', '111.2378', '116.3792', '117.7157'], 'option': ['space', 'left', 'right', 'right', 'left', 'left', 'right', 'right', 'left', 'left', 'right', 'left', 'right', 'space', 'space', 'left', 'space', 'space', 'right', 'right', 'left', 'left', 'left', 'right', 'right', 'right', 'right']}, 'T8': {'time': ['3.361', '8.018', '13.9533', '19.9266', '25.9919', '32.0089', '38.0402', '39.675', '43.9682', '44.4437', '49.9605', '56.0047', '57.1045', '61.5304', '62.1019', '62.4497', '67.9239', '68.7753', '74.0624', '74.95', '80.1061', '80.6955', '85.6643', '86.404', '92.029', '92.4278', '98.0914', '98.6639', '105.2786', '110.0027', '110.5631', '116.4135', '116.9938'], 'option': ['space', 'left', 'left', 'left', 'right', 'left', 'right', 'right', 'space', 'space', 'left', 'left', 'left', 'left', 'left', 'left', 'right', 'right', 'left', 'left', 'right', 'right', 'right', 'right', 'space', 'space', 'left', 'left', 'right', 'left', 'left', 'right', 'right']}, 'T9': {'time': ['2.7695', '8.2092', '14.0697', '14.3095', '20.0517', '26.9516', '27.4022', '30.1902', '32.0463', '38.1177', '38.6912', '44.2828', '45.2765', '50.6808', '51.3825', '56.098', '56.5001', '62.0728', '68.0809', '68.4597', '74.0347', '80.0904', '80.6213', '86.0311', '86.4564', '92.2339', '92.7453', '98.2821', '104.5969', '105.0443', '112.0099', '116.89'], 'option': ['space', 'space', 'left', 'left', 'right', 'right', 'right', 'left', 'left', 'right', 'right', 'right', 'right', 'right', 'right', 'left', 'left', 'right', 'left', 'left', 'right', 'left', 'left', 'left', 'left', 'left', 'left', 'right', 'space', 'space', 'space', 'space']}}\n"
          ]
        }
      ]
    },
    {
      "cell_type": "code",
      "source": [
        "ground_truth_data = {\n",
        "    'T0': {\n",
        "        'time': ['2-5', '8-11', '14-17', '20-23', '26-29', '32-35', '38-41', '44-47', '50-53', '56-59', '62-65', '68-71', '74-77', '80-83', '86-89', '92-95', '98-101', '104-107', '110-113', '116-120'],\n",
        "        'option': ['space' , 'left' , 'right' ,\t'left' ,\t'right' ,\t'right' ,\t'left' ,\t'right' ,\t'right' ,\t'right' ,\t'space' , 'left'\t, 'left' , 'right' , 'left' ,\t'left' ,\t'right' ,\t'left' ,\t'right' , 'left']\n",
        "        },\n",
        "    'T1': {\n",
        "        'time': ['2-5', '8-11', '14-17', '20-23', '26-29', '32-35', '38-41', '44-47', '50-53', '56-59', '62-65', '68-71', '74-77', '80-83', '86-89', '92-95', '98-101', '104-107', '110-113', '116-120'],\n",
        "        'option': ['space', 'right', 'left', 'right', 'space', 'left', 'space', 'left', 'left', 'left', 'space', 'right', 'left', 'right', 'right', 'left', 'right', 'left', 'left', 'right']\n",
        "    },\n",
        "    'T2': {\n",
        "        'time': ['2-5', '8-11', '14-17', '20-23', '26-29', '32-35', '38-41', '44-47', '50-53', '56-59', '62-65', '68-71', '74-77', '80-83', '86-89', '92-95', '98-101', '104-107', '110-113', '116-120'],\n",
        "        'option': ['space', 'right', 'left', 'left', 'right', 'left', 'left', 'right', 'right', 'left', 'right', 'left', 'space', 'right', 'space', 'left', 'right', 'right', 'left', 'left']\n",
        "\n",
        "    },\n",
        "    'T3': {\n",
        "        'time': ['2-5', '8-11', '14-17', '20-23', '26-29', '32-35', '38-41', '44-47', '50-53', '56-59', '62-65', '68-71', '74-77', '80-83', '86-89', '92-95', '98-101', '104-107', '110-113', '116-120'],\n",
        "        'option': ['space', 'right', 'right', 'right', 'left', 'right', 'left', 'space', 'right', 'right', 'right', 'left', 'right', 'left', 'left', 'space', 'right', 'left', 'right', 'left']\n",
        "        },\n",
        "    'T4': {\n",
        "        'time': ['2-5', '8-11', '14-17', '20-23', '26-29', '32-35', '38-41', '44-47', '50-53', '56-59', '62-65', '68-71', '74-77', '80-83', '86-89', '92-95', '98-101', '104-107', '110-113', '116-120'],\n",
        "        'option': ['space', 'space', 'right', 'left', 'left', 'right', 'left', 'left', 'left', 'right', 'left', 'right', 'left', 'space', 'right', 'right', 'left', 'space', 'left', 'right']\n",
        "    },\n",
        "    'T5': {\n",
        "        'time': ['2-5', '8-11', '14-17', '20-23', '26-29', '32-35', '38-41', '44-47', '50-53', '56-59', '62-65', '68-71', '74-77', '80-83', '86-89', '92-95', '98-101', '104-107', '110-113', '116-120'],\n",
        "        'option': ['space', 'right', 'left', 'right', 'left', 'left', 'right', 'left', 'left', 'left', 'space', 'right', 'right', 'left', 'right', 'right', 'left', 'right', 'left', 'right']\n",
        "\n",
        "    },\n",
        "    'T6': {\n",
        "        'time': ['2-5', '8-11', '14-17', '20-23', '26-29', '32-35', '38-41', '44-47', '50-53', '56-59', '62-65', '68-71', '74-77', '80-83', '86-89', '92-95', '98-101', '104-107', '110-113', '116-120'],\n",
        "        'option': ['space', 'left', 'right', 'left', 'space', 'right', 'space', 'right', 'right', 'right', 'space', 'left', 'right', 'left', 'left', 'right', 'left', 'right', 'right', 'left']\n",
        "        },\n",
        "    'T7': {\n",
        "        'time': ['2-5', '8-11', '14-17', '20-23', '26-29', '32-35', '38-41', '44-47', '50-53', '56-59', '62-65', '68-71', '74-77', '80-83', '86-89', '92-95', '98-101', '104-107', '110-113', '116-120'],\n",
        "        'option': ['space', 'left', 'right', 'right', 'left', 'right', 'right', 'left', 'left', 'right', 'left', 'right', 'space', 'left', 'space', 'right', 'left', 'left', 'right', 'right']\n",
        "    },\n",
        "    'T8': {\n",
        "        'time': ['2-5', '8-11', '14-17', '20-23', '26-29', '32-35', '38-41', '44-47', '50-53', '56-59', '62-65', '68-71', '74-77', '80-83', '86-89', '92-95', '98-101', '104-107', '110-113', '116-120'],\n",
        "        'option': ['space', 'left', 'left', 'left', 'right', 'left', 'right', 'space', 'left', 'left', 'left', 'right', 'left', 'right', 'right', 'space', 'left', 'right', 'left', 'right']\n",
        "\n",
        "    },\n",
        "    'T9': {\n",
        "        'time': ['2-5', '8-11', '14-17', '20-23', '26-29', '32-35', '38-41', '44-47', '50-53', '56-59', '62-65', '68-71', '74-77', '80-83', '86-89', '92-95', '98-101', '104-107', '110-113', '116-120'],\n",
        "        'option': ['space', 'space', 'left', 'right', 'right', 'left', 'right', 'right', 'right', 'left', 'right', 'left', 'right', 'space', 'left', 'left', 'right', 'space', 'right', 'left']\n",
        "        },\n",
        "}\n",
        "\n",
        "\n",
        "\n",
        "def calculate_score(ground_truth, observed_data):\n",
        "\n",
        "    # Initialize dictionary to store scores for each trial\n",
        "    trial_scores = {}\n",
        "\n",
        "    # Iterate over each trial in the observed data\n",
        "    for trial_id, observed_trial in observed_data.items():\n",
        "        # Initialize score for the current trial\n",
        "        score = 0\n",
        "        range_start=0    #to make sure only one click in a single ground_truth time range is registered\n",
        "\n",
        "        # Get the observed time and option for the current trial\n",
        "        observed_time = observed_trial['time']\n",
        "        observed_option = observed_trial['option']\n",
        "\n",
        "        # Get the ground truth data for the current trial\n",
        "        ground_truth_trial = ground_truth.get(trial_id, {'time': [], 'option': []})\n",
        "\n",
        "        # Iterate over each observed time and option\n",
        "        for i in range(len(observed_time)):\n",
        "            # Check if the observed time falls within any time range in the ground truth data\n",
        "            for j in range(range_start,len(ground_truth_trial['time'])):\n",
        "                start, end = map(int, ground_truth_trial['time'][j].split('-'))\n",
        "                if start <= float(observed_time[i]) <= end:\n",
        "                    # If the observed option matches the option in ground truth data, add +1 score\n",
        "                    if observed_option[i] == ground_truth_trial['option'][j]:\n",
        "                        score += 1\n",
        "                    # If the observed option does not match, subtract -1 score\n",
        "                    #else:\n",
        "                     #   score -= 1\n",
        "                    range_start +=1\n",
        "                    break  # Exit the inner loop once a matching time range is found\n",
        "\n",
        "        # Store the score for the current trial\n",
        "        trial_scores[trial_id] = score\n",
        "\n",
        "    return trial_scores\n",
        "\n",
        "participant_scores= {\n",
        "    # Calculate scores for participant D02\n",
        "    'participant2_score' :  calculate_score(ground_truth_data, observed_data_C2),\n",
        "\n",
        "    # Calculate scores for participant D03\n",
        "    'participant4_score' :  calculate_score(ground_truth_data, observed_data_C4),\n",
        "    'participant6_score' :  calculate_score(ground_truth_data, observed_data_C6),\n",
        "    'participant8_score' :  calculate_score(ground_truth_data, observed_data_C8),\n",
        "    'participant10_score' :  calculate_score(ground_truth_data, observed_data_C10),\n",
        "    'participant12_score' :  calculate_score(ground_truth_data, observed_data_C12),\n",
        "    'participant14_score' :  calculate_score(ground_truth_data, observed_data_C14),\n",
        "    'participant16_score' :  calculate_score(ground_truth_data, observed_data_C16),\n",
        "    'participant18_score' :  calculate_score(ground_truth_data, observed_data_C18),\n",
        "    'participant20_score' :  calculate_score(ground_truth_data, observed_data_C20),\n",
        "    'participant21_score' :  calculate_score(ground_truth_data, observed_data_C21)\n",
        "}\n",
        "# Print scores\n",
        "print(\"Participant D02 scores:\")\n",
        "for trial, score in participant_scores.items():\n",
        "    print(f\"T{trial}: {score} points\")\n"
      ],
      "metadata": {
        "id": "IULvzaxRigGv",
        "colab": {
          "base_uri": "https://localhost:8080/"
        },
        "outputId": "1c4c53d3-aca4-4342-efe5-39aef80a0dc8"
      },
      "execution_count": null,
      "outputs": [
        {
          "output_type": "stream",
          "name": "stdout",
          "text": [
            "Participant D02 scores:\n",
            "Tparticipant2_score: {'T0': 0, 'T1': 0, 'T2': 0, 'T3': 0, 'T4': 0, 'T5': 0, 'T6': 1, 'T7': 2, 'T8': 0, 'T9': 0} points\n",
            "Tparticipant4_score: {'T0': 14, 'T1': 13, 'T2': 15, 'T3': 16, 'T4': 14, 'T5': 15, 'T6': 15, 'T7': 10, 'T8': 12, 'T9': 13} points\n",
            "Tparticipant6_score: {'T0': 2, 'T1': 4, 'T2': 3, 'T3': 3, 'T4': 4, 'T5': 2, 'T6': 3, 'T7': 3, 'T8': 3, 'T9': 5} points\n",
            "Tparticipant8_score: {'T0': 17, 'T1': 15, 'T2': 15, 'T3': 16, 'T4': 16, 'T5': 17, 'T6': 14, 'T7': 17, 'T8': 18, 'T9': 16} points\n",
            "Tparticipant10_score: {'T0': 17, 'T1': 15, 'T2': 12, 'T3': 12, 'T4': 17, 'T5': 12, 'T6': 10, 'T7': 11, 'T8': 10, 'T9': 14} points\n",
            "Tparticipant12_score: {'T0': 15, 'T1': 18, 'T2': 17, 'T3': 17, 'T4': 20, 'T5': 20, 'T6': 19, 'T7': 19, 'T8': 20, 'T9': 16} points\n",
            "Tparticipant14_score: {'T0': 17, 'T1': 18, 'T2': 18, 'T3': 17, 'T4': 19, 'T5': 20, 'T6': 19, 'T7': 19, 'T8': 20, 'T9': 17} points\n",
            "Tparticipant16_score: {'T0': 19, 'T1': 20, 'T2': 19, 'T3': 19, 'T4': 20, 'T5': 19, 'T6': 19, 'T7': 20, 'T8': 19, 'T9': 16} points\n",
            "Tparticipant18_score: {'T0': 20, 'T1': 20, 'T2': 20, 'T3': 20, 'T4': 20, 'T5': 20, 'T6': 20, 'T7': 20, 'T8': 20, 'T9': 18} points\n",
            "Tparticipant20_score: {'T0': 20, 'T1': 19, 'T2': 20, 'T3': 20, 'T4': 20, 'T5': 20, 'T6': 20, 'T7': 19, 'T8': 20, 'T9': 15} points\n",
            "Tparticipant21_score: {'T0': 16, 'T1': 17, 'T2': 11, 'T3': 19, 'T4': 16, 'T5': 9, 'T6': 14, 'T7': 20, 'T8': 20, 'T9': 17} points\n"
          ]
        }
      ]
    },
    {
      "cell_type": "code",
      "source": [
        "average_scores = {}\n",
        "for participant, scores in participant_scores.items():\n",
        "    average_score = sum(scores.values()) / len(scores)\n",
        "    average_scores[participant] = average_score\n",
        "\n",
        "# Print average scores\n",
        "for participant, avg_score in average_scores.items():\n",
        "    print(f\"{participant}: Average Score = {avg_score} points\")"
      ],
      "metadata": {
        "colab": {
          "base_uri": "https://localhost:8080/"
        },
        "id": "lCQSo68zlIxq",
        "outputId": "cea19c45-9f97-40bb-988e-4bf43802e851"
      },
      "execution_count": null,
      "outputs": [
        {
          "output_type": "stream",
          "name": "stdout",
          "text": [
            "participant2_score: Average Score = 0.3 points\n",
            "participant4_score: Average Score = 13.7 points\n",
            "participant6_score: Average Score = 3.2 points\n",
            "participant8_score: Average Score = 16.1 points\n",
            "participant10_score: Average Score = 13.0 points\n",
            "participant12_score: Average Score = 18.1 points\n",
            "participant14_score: Average Score = 18.4 points\n",
            "participant16_score: Average Score = 19.0 points\n",
            "participant18_score: Average Score = 19.8 points\n",
            "participant20_score: Average Score = 19.3 points\n",
            "participant21_score: Average Score = 15.9 points\n"
          ]
        }
      ]
    },
    {
      "cell_type": "code",
      "source": [
        "#from google.colab import drive\n",
        "#drive.mount('/content/drive')"
      ],
      "metadata": {
        "id": "rvaSDaoaYjCp"
      },
      "execution_count": null,
      "outputs": []
    },
    {
      "cell_type": "code",
      "source": [
        "import pandas as pd\n",
        "\n",
        "# Create a DataFrame from the participant scores dictionary\n",
        "df = pd.DataFrame(participant_scores)\n",
        "\n",
        "# Transpose the DataFrame to have participants as rows and trials as columns\n",
        "df\n",
        "\n",
        "# Print the DataFrame\n",
        "print(df)\n"
      ],
      "metadata": {
        "id": "2AWXIEUZgQJr",
        "colab": {
          "base_uri": "https://localhost:8080/"
        },
        "outputId": "24b023d7-0a34-4584-ce5c-f7dc835a59a3"
      },
      "execution_count": null,
      "outputs": [
        {
          "output_type": "stream",
          "name": "stdout",
          "text": [
            "    participant2_score  participant4_score  participant6_score  \\\n",
            "T0                   0                  14                   2   \n",
            "T1                   0                  13                   4   \n",
            "T2                   0                  15                   3   \n",
            "T3                   0                  16                   3   \n",
            "T4                   0                  14                   4   \n",
            "T5                   0                  15                   2   \n",
            "T6                   1                  15                   3   \n",
            "T7                   2                  10                   3   \n",
            "T8                   0                  12                   3   \n",
            "T9                   0                  13                   5   \n",
            "\n",
            "    participant8_score  participant10_score  participant12_score  \\\n",
            "T0                  17                   17                   15   \n",
            "T1                  15                   15                   18   \n",
            "T2                  15                   12                   17   \n",
            "T3                  16                   12                   17   \n",
            "T4                  16                   17                   20   \n",
            "T5                  17                   12                   20   \n",
            "T6                  14                   10                   19   \n",
            "T7                  17                   11                   19   \n",
            "T8                  18                   10                   20   \n",
            "T9                  16                   14                   16   \n",
            "\n",
            "    participant14_score  participant16_score  participant18_score  \\\n",
            "T0                   17                   19                   20   \n",
            "T1                   18                   20                   20   \n",
            "T2                   18                   19                   20   \n",
            "T3                   17                   19                   20   \n",
            "T4                   19                   20                   20   \n",
            "T5                   20                   19                   20   \n",
            "T6                   19                   19                   20   \n",
            "T7                   19                   20                   20   \n",
            "T8                   20                   19                   20   \n",
            "T9                   17                   16                   18   \n",
            "\n",
            "    participant20_score  participant21_score  \n",
            "T0                   20                   16  \n",
            "T1                   19                   17  \n",
            "T2                   20                   11  \n",
            "T3                   20                   19  \n",
            "T4                   20                   16  \n",
            "T5                   20                    9  \n",
            "T6                   20                   14  \n",
            "T7                   19                   20  \n",
            "T8                   20                   20  \n",
            "T9                   15                   17  \n"
          ]
        }
      ]
    },
    {
      "cell_type": "code",
      "source": [
        "# Save the DataFrame to a CSV file\n",
        "df.to_csv('participant_scores.csv')\n"
      ],
      "metadata": {
        "id": "K2Mjst9_g_Tn"
      },
      "execution_count": null,
      "outputs": []
    },
    {
      "cell_type": "code",
      "source": [
        "df_score = pd.DataFrame.from_dict(average_scores, orient='index', columns=['score'])\n",
        "print(df_score)\n",
        "df_score.to_csv('participant_avgscore.csv')"
      ],
      "metadata": {
        "colab": {
          "base_uri": "https://localhost:8080/"
        },
        "id": "X8lTE_eClRDV",
        "outputId": "08661e25-4501-433e-dd70-efdc6e78ea24"
      },
      "execution_count": null,
      "outputs": [
        {
          "output_type": "stream",
          "name": "stdout",
          "text": [
            "                     score\n",
            "participant2_score     0.3\n",
            "participant4_score    13.7\n",
            "participant6_score     3.2\n",
            "participant8_score    16.1\n",
            "participant10_score   13.0\n",
            "participant12_score   18.1\n",
            "participant14_score   18.4\n",
            "participant16_score   19.0\n",
            "participant18_score   19.8\n",
            "participant20_score   19.3\n",
            "participant21_score   15.9\n"
          ]
        }
      ]
    },
    {
      "cell_type": "code",
      "source": [
        "\n",
        "\n",
        "def calculate_error(ground_truth, observed_data):\n",
        "\n",
        "    # Initialize dictionary to store scores for each trial\n",
        "    trial_scores = {}\n",
        "\n",
        "    # Iterate over each trial in the observed data\n",
        "    for trial_id, observed_trial in observed_data.items():\n",
        "        # Initialize score for the current trial\n",
        "        score = 0\n",
        "        range_start=0    #to make sure only one click in a single ground_truth time range is registered\n",
        "\n",
        "        # Get the observed time and option for the current trial\n",
        "        observed_time = observed_trial['time']\n",
        "        observed_option = observed_trial['option']\n",
        "\n",
        "        # Get the ground truth data for the current trial\n",
        "        ground_truth_trial = ground_truth.get(trial_id, {'time': [], 'option': []})\n",
        "\n",
        "        # Iterate over each observed time and option\n",
        "        for i in range(len(observed_time)):\n",
        "            # Check if the observed time falls within any time range in the ground truth data\n",
        "            for j in range(range_start,len(ground_truth_trial['time'])):\n",
        "                start, end = map(int, ground_truth_trial['time'][j].split('-'))\n",
        "                if start <= float(observed_time[i]) <= end:\n",
        "                    # If the observed option matches the option in ground truth data, add +1 score\n",
        "                    if observed_option[i] != ground_truth_trial['option'][j]:\n",
        "                        score += 1\n",
        "                    # If the observed option does not match, subtract -1 score\n",
        "                    #else:\n",
        "                     #   score -= 1\n",
        "                    range_start +=1\n",
        "                    break  # Exit the inner loop once a matching time range is found\n",
        "\n",
        "        # Store the score for the current trial\n",
        "        trial_scores[trial_id] = score\n",
        "\n",
        "    return trial_scores\n",
        "\n",
        "\n",
        "participant_errors = {\n",
        "      'participant2_error' : calculate_error(ground_truth_data, observed_data_C2),\n",
        "\n",
        "      # Calculate scores for participant D03\n",
        "      'participant4_error' : calculate_error(ground_truth_data, observed_data_C4),\n",
        "      'participant6_error' : calculate_error(ground_truth_data, observed_data_C6),\n",
        "      'participant8_error' : calculate_error(ground_truth_data, observed_data_C8),\n",
        "      'participant10_error' : calculate_error(ground_truth_data, observed_data_C10),\n",
        "      'participant12_error' : calculate_error(ground_truth_data, observed_data_C12),\n",
        "      'participant14_error' : calculate_error(ground_truth_data, observed_data_C14),\n",
        "      'participant16_error' : calculate_error(ground_truth_data, observed_data_C16),\n",
        "      'participant18_error' : calculate_error(ground_truth_data, observed_data_C18),\n",
        "      'participant20_error' : calculate_error(ground_truth_data, observed_data_C20),\n",
        "      'participant21_error' : calculate_error(ground_truth_data, observed_data_C21)\n",
        "}\n",
        "# Print scores\n",
        "print(\"Participant D02 error:\")\n",
        "for trial, score in participant_errors.items():\n",
        "    print(f\"T{trial}: {score} points\")\n",
        "#print(participant_errors[participant2_error])"
      ],
      "metadata": {
        "id": "lJ3Z4ril4x3t",
        "colab": {
          "base_uri": "https://localhost:8080/"
        },
        "outputId": "41677a8c-6487-4b63-ef7b-221598114e3b"
      },
      "execution_count": null,
      "outputs": [
        {
          "output_type": "stream",
          "name": "stdout",
          "text": [
            "Participant D02 error:\n",
            "Tparticipant2_error: {'T0': 0, 'T1': 0, 'T2': 0, 'T3': 0, 'T4': 1, 'T5': 0, 'T6': 0, 'T7': 0, 'T8': 0, 'T9': 0} points\n",
            "Tparticipant4_error: {'T0': 4, 'T1': 7, 'T2': 5, 'T3': 4, 'T4': 5, 'T5': 3, 'T6': 5, 'T7': 10, 'T8': 6, 'T9': 7} points\n",
            "Tparticipant6_error: {'T0': 18, 'T1': 16, 'T2': 17, 'T3': 17, 'T4': 16, 'T5': 18, 'T6': 17, 'T7': 17, 'T8': 16, 'T9': 15} points\n",
            "Tparticipant8_error: {'T0': 3, 'T1': 5, 'T2': 5, 'T3': 4, 'T4': 4, 'T5': 3, 'T6': 6, 'T7': 3, 'T8': 2, 'T9': 4} points\n",
            "Tparticipant10_error: {'T0': 3, 'T1': 5, 'T2': 8, 'T3': 8, 'T4': 3, 'T5': 8, 'T6': 10, 'T7': 9, 'T8': 10, 'T9': 6} points\n",
            "Tparticipant12_error: {'T0': 2, 'T1': 2, 'T2': 0, 'T3': 1, 'T4': 0, 'T5': 0, 'T6': 0, 'T7': 1, 'T8': 0, 'T9': 2} points\n",
            "Tparticipant14_error: {'T0': 3, 'T1': 2, 'T2': 1, 'T3': 3, 'T4': 0, 'T5': 0, 'T6': 1, 'T7': 1, 'T8': 0, 'T9': 3} points\n",
            "Tparticipant16_error: {'T0': 1, 'T1': 0, 'T2': 1, 'T3': 1, 'T4': 0, 'T5': 1, 'T6': 1, 'T7': 0, 'T8': 1, 'T9': 4} points\n",
            "Tparticipant18_error: {'T0': 0, 'T1': 0, 'T2': 0, 'T3': 0, 'T4': 0, 'T5': 0, 'T6': 0, 'T7': 0, 'T8': 0, 'T9': 2} points\n",
            "Tparticipant20_error: {'T0': 0, 'T1': 1, 'T2': 0, 'T3': 0, 'T4': 0, 'T5': 0, 'T6': 0, 'T7': 0, 'T8': 0, 'T9': 3} points\n",
            "Tparticipant21_error: {'T0': 2, 'T1': 2, 'T2': 0, 'T3': 1, 'T4': 1, 'T5': 1, 'T6': 1, 'T7': 0, 'T8': 0, 'T9': 3} points\n"
          ]
        }
      ]
    },
    {
      "cell_type": "code",
      "source": [
        "average_errors = {}\n",
        "for participant, scores in participant_errors.items():\n",
        "    average_error = sum(scores.values()) / len(scores)\n",
        "    average_errors[participant] = average_error\n",
        "\n",
        "# Print average scores\n",
        "for participant, avg_error in average_errors.items():\n",
        "    print(f\"{participant}: Average Error = {avg_error} points\")"
      ],
      "metadata": {
        "colab": {
          "base_uri": "https://localhost:8080/"
        },
        "id": "JYBl1INmm6XR",
        "outputId": "6728286e-793d-401e-9c55-1243f4ca2d3f"
      },
      "execution_count": null,
      "outputs": [
        {
          "output_type": "stream",
          "name": "stdout",
          "text": [
            "participant2_error: Average Error = 0.1 points\n",
            "participant4_error: Average Error = 5.6 points\n",
            "participant6_error: Average Error = 16.7 points\n",
            "participant8_error: Average Error = 3.9 points\n",
            "participant10_error: Average Error = 7.0 points\n",
            "participant12_error: Average Error = 0.8 points\n",
            "participant14_error: Average Error = 1.4 points\n",
            "participant16_error: Average Error = 1.0 points\n",
            "participant18_error: Average Error = 0.2 points\n",
            "participant20_error: Average Error = 0.4 points\n",
            "participant21_error: Average Error = 1.1 points\n"
          ]
        }
      ]
    },
    {
      "cell_type": "code",
      "source": [
        "import pandas as pd\n",
        "\n",
        "# Create a DataFrame from the participant scores dictionary\n",
        "dfe = pd.DataFrame(participant_errors)\n",
        "\n",
        "\n",
        "# Print the DataFrame\n",
        "print(dfe)\n"
      ],
      "metadata": {
        "id": "afKA3YJ0hNhd",
        "colab": {
          "base_uri": "https://localhost:8080/"
        },
        "outputId": "987231bf-29bb-4646-a5ac-a87935d975d5"
      },
      "execution_count": null,
      "outputs": [
        {
          "output_type": "stream",
          "name": "stdout",
          "text": [
            "    participant2_error  participant4_error  participant6_error  \\\n",
            "T0                   0                   4                  18   \n",
            "T1                   0                   7                  16   \n",
            "T2                   0                   5                  17   \n",
            "T3                   0                   4                  17   \n",
            "T4                   1                   5                  16   \n",
            "T5                   0                   3                  18   \n",
            "T6                   0                   5                  17   \n",
            "T7                   0                  10                  17   \n",
            "T8                   0                   6                  16   \n",
            "T9                   0                   7                  15   \n",
            "\n",
            "    participant8_error  participant10_error  participant12_error  \\\n",
            "T0                   3                    3                    2   \n",
            "T1                   5                    5                    2   \n",
            "T2                   5                    8                    0   \n",
            "T3                   4                    8                    1   \n",
            "T4                   4                    3                    0   \n",
            "T5                   3                    8                    0   \n",
            "T6                   6                   10                    0   \n",
            "T7                   3                    9                    1   \n",
            "T8                   2                   10                    0   \n",
            "T9                   4                    6                    2   \n",
            "\n",
            "    participant14_error  participant16_error  participant18_error  \\\n",
            "T0                    3                    1                    0   \n",
            "T1                    2                    0                    0   \n",
            "T2                    1                    1                    0   \n",
            "T3                    3                    1                    0   \n",
            "T4                    0                    0                    0   \n",
            "T5                    0                    1                    0   \n",
            "T6                    1                    1                    0   \n",
            "T7                    1                    0                    0   \n",
            "T8                    0                    1                    0   \n",
            "T9                    3                    4                    2   \n",
            "\n",
            "    participant20_error  participant21_error  \n",
            "T0                    0                    2  \n",
            "T1                    1                    2  \n",
            "T2                    0                    0  \n",
            "T3                    0                    1  \n",
            "T4                    0                    1  \n",
            "T5                    0                    1  \n",
            "T6                    0                    1  \n",
            "T7                    0                    0  \n",
            "T8                    0                    0  \n",
            "T9                    3                    3  \n"
          ]
        }
      ]
    },
    {
      "cell_type": "code",
      "source": [
        "dfe.to_csv('participant_errors.csv')"
      ],
      "metadata": {
        "id": "30aMqznYhrY9"
      },
      "execution_count": null,
      "outputs": []
    },
    {
      "cell_type": "code",
      "source": [
        "df_error = pd.DataFrame.from_dict(average_errors, orient='index', columns=['error'])\n",
        "print(df_error)\n",
        "df_error.to_csv('participant_avgerror.csv')"
      ],
      "metadata": {
        "colab": {
          "base_uri": "https://localhost:8080/"
        },
        "id": "4lEw2tM1os5m",
        "outputId": "ea8dd3cc-d415-4e35-b25a-bf486358b141"
      },
      "execution_count": null,
      "outputs": [
        {
          "output_type": "stream",
          "name": "stdout",
          "text": [
            "                     error\n",
            "participant2_error     0.1\n",
            "participant4_error     5.6\n",
            "participant6_error    16.7\n",
            "participant8_error     3.9\n",
            "participant10_error    7.0\n",
            "participant12_error    0.8\n",
            "participant14_error    1.4\n",
            "participant16_error    1.0\n",
            "participant18_error    0.2\n",
            "participant20_error    0.4\n",
            "participant21_error    1.1\n"
          ]
        }
      ]
    },
    {
      "cell_type": "code",
      "source": [
        "def calculate_rt(ground_truth, observed_data):\n",
        "\n",
        "    # Initialize dictionary to store scores for each trial\n",
        "    trial_scores = {}\n",
        "\n",
        "    # Iterate over each trial in the observed data\n",
        "    for trial_id, observed_trial in observed_data.items():\n",
        "        # Initialize score for the current trial\n",
        "        score = 0\n",
        "        range_start = 0    # to keep track of the index of the ground truth time range\n",
        "\n",
        "        # Get the observed time and option for the current trial\n",
        "        observed_time = observed_trial['time']\n",
        "        observed_option = observed_trial['option']\n",
        "\n",
        "        # Get the ground truth data for the current trial\n",
        "        ground_truth_trial = ground_truth.get(trial_id, {'time': [], 'option': []})\n",
        "\n",
        "        # Iterate over each time range in ground truth data\n",
        "        for ground_time_range in ground_truth_trial['time']:\n",
        "            start, end = map(int, ground_time_range.split('-'))\n",
        "\n",
        "            # Flag to check if observed time falls within the current ground truth time range\n",
        "            time_within_range = False\n",
        "\n",
        "            # Iterate over each observed time\n",
        "            for i, obs_time in enumerate(observed_time):\n",
        "                if start <= float(obs_time) <= end:\n",
        "                    time_within_range = True\n",
        "                    # Calculate the difference between observed time and the lower bound of the range\n",
        "                    rt = float(obs_time) - start\n",
        "                    # Add the difference to the previous score (if any)\n",
        "                    score += rt\n",
        "                    break  # Exit the loop once a matching time range is found\n",
        "\n",
        "            # If observed time doesn't fall within the ground truth time range, add 3 to score\n",
        "            if not time_within_range:\n",
        "                score += 3\n",
        "\n",
        "        # Store the score for the current trial\n",
        "        trial_scores[trial_id] = score\n",
        "    return trial_scores\n",
        "participant_rt={\n",
        "\n",
        "    'participant2_rt': calculate_rt(ground_truth_data, observed_data_C2),\n",
        "    'participant4_rt': calculate_rt(ground_truth_data, observed_data_C4),\n",
        "    'participant6_rt': calculate_rt(ground_truth_data, observed_data_C6),\n",
        "    'participant8_rt': calculate_rt(ground_truth_data, observed_data_C8),\n",
        "    'participant10_rt': calculate_rt(ground_truth_data, observed_data_C10),\n",
        "    'participant12_rt': calculate_rt(ground_truth_data, observed_data_C12),\n",
        "    'participant14_rt': calculate_rt(ground_truth_data, observed_data_C14),\n",
        "    'participant16_rt': calculate_rt(ground_truth_data, observed_data_C16),\n",
        "    'participant18_rt': calculate_rt(ground_truth_data, observed_data_C18),\n",
        "    'participant20_rt': calculate_rt(ground_truth_data, observed_data_C20),\n",
        "    'participant21_rt': calculate_rt(ground_truth_data, observed_data_C21)\n",
        "}\n",
        "for participant, scores in participant_rt.items():\n",
        "    for trial, score in scores.items():\n",
        "        participant_rt[participant][trial] = score / 20\n",
        "\n",
        "print(participant_rt)\n"
      ],
      "metadata": {
        "id": "WoUr_odnzEVN",
        "colab": {
          "base_uri": "https://localhost:8080/"
        },
        "outputId": "e4a30daf-eb02-46a2-f7f3-128c6083b7ab"
      },
      "execution_count": null,
      "outputs": [
        {
          "output_type": "stream",
          "name": "stdout",
          "text": [
            "{'participant2_rt': {'T0': 3.0, 'T1': 3.0, 'T2': 3.0, 'T3': 3.0, 'T4': 2.88097, 'T5': 3.0, 'T6': 2.943695, 'T7': 2.7685899999999997, 'T8': 3.0, 'T9': 3.0}, 'participant4_rt': {'T0': 1.0850500000000007, 'T1': 0.8064849999999997, 'T2': 0.5801250000000002, 'T3': 0.5494449999999993, 'T4': 0.8372200000000003, 'T5': 1.2852599999999998, 'T6': 0.7093600000000008, 'T7': 0.8283599999999997, 'T8': 1.0432750000000002, 'T9': 0.64373}, 'participant6_rt': {'T0': 0.5223349999999994, 'T1': 0.48479499999999937, 'T2': 0.5237799999999997, 'T3': 0.31274500000000066, 'T4': 0.47990500000000047, 'T5': 0.3805849999999986, 'T6': 0.4761849999999995, 'T7': 0.43247499999999944, 'T8': 0.5303999999999995, 'T9': 0.5326600000000006}, 'participant8_rt': {'T0': 0.5516900000000001, 'T1': 0.8271649999999994, 'T2': 0.5095699999999994, 'T3': 0.6058899999999986, 'T4': 0.8614050000000008, 'T5': 0.697654999999999, 'T6': 0.8752400000000005, 'T7': 1.0304549999999986, 'T8': 0.8739550000000005, 'T9': 0.9147750000000006}, 'participant10_rt': {'T0': 0.52422, 'T1': 0.4842900000000004, 'T2': 0.6883650000000002, 'T3': 0.6667549999999989, 'T4': 0.47687000000000124, 'T5': 0.6760700000000008, 'T6': 1.022615, 'T7': 0.843634999999999, 'T8': 0.6792450000000002, 'T9': 0.42521500000000056}, 'participant12_rt': {'T0': 0.625945, 'T1': 0.22322000000000058, 'T2': 0.582145, 'T3': 0.5290249999999992, 'T4': 0.28797500000000126, 'T5': 0.14971500000000046, 'T6': 0.44043500000000096, 'T7': 0.2610150000000003, 'T8': 0.2256199999999998, 'T9': 0.5720300000000001}, 'participant14_rt': {'T0': 0.7938549999999995, 'T1': 0.7684449999999993, 'T2': 0.8476800000000002, 'T3': 0.7720149999999995, 'T4': 0.8426399999999996, 'T5': 0.6480249999999999, 'T6': 0.6031550000000001, 'T7': 0.7460050000000003, 'T8': 0.7122750000000002, 'T9': 0.8373399999999999}, 'participant16_rt': {'T0': 0.44502999999999987, 'T1': 0.4983100000000018, 'T2': 0.61799, 'T3': 0.5517149999999991, 'T4': 0.5273500000000004, 'T5': 0.50109, 'T6': 0.5395650000000006, 'T7': 0.5948499999999984, 'T8': 0.5291249999999993, 'T9': 0.7071399999999989}, 'participant18_rt': {'T0': 0.3499700000000005, 'T1': 0.1715899999999985, 'T2': 0.26418999999999954, 'T3': 0.1896149999999992, 'T4': 0.2683150000000003, 'T5': 0.2338200000000005, 'T6': 0.11795500000000063, 'T7': 0.13131000000000015, 'T8': 0.141785, 'T9': 0.21305500000000083}, 'participant20_rt': {'T0': 0.5801199999999993, 'T1': 0.4792150000000001, 'T2': 0.3687950000000003, 'T3': 0.4409900000000017, 'T4': 0.5515349999999994, 'T5': 0.475364999999999, 'T6': 0.5846150000000003, 'T7': 0.7913249999999994, 'T8': 0.6029599999999993, 'T9': 0.90724}, 'participant21_rt': {'T0': 0.5767750000000004, 'T1': 0.5177299999999994, 'T2': 1.5064750000000005, 'T3': 0.6819449999999999, 'T4': 0.9533399999999996, 'T5': 1.7107599999999994, 'T6': 1.0992199999999994, 'T7': 1.0582650000000002, 'T8': 0.857069999999999, 'T9': 0.38000000000000045}}\n"
          ]
        }
      ]
    },
    {
      "cell_type": "code",
      "source": [
        "# Create a DataFrame from the participant scores dictionary\n",
        "dfrt = pd.DataFrame(participant_rt)\n",
        "\n",
        "\n",
        "# Print the DataFrame\n",
        "print(dfrt)\n"
      ],
      "metadata": {
        "id": "AMJcDATA1klW",
        "colab": {
          "base_uri": "https://localhost:8080/"
        },
        "outputId": "d37a6236-8405-4297-d0ee-34fccbc1f7e6"
      },
      "execution_count": null,
      "outputs": [
        {
          "output_type": "stream",
          "name": "stdout",
          "text": [
            "    participant2_rt  participant4_rt  participant6_rt  participant8_rt  \\\n",
            "T0         3.000000         1.085050         0.522335         0.551690   \n",
            "T1         3.000000         0.806485         0.484795         0.827165   \n",
            "T2         3.000000         0.580125         0.523780         0.509570   \n",
            "T3         3.000000         0.549445         0.312745         0.605890   \n",
            "T4         2.880970         0.837220         0.479905         0.861405   \n",
            "T5         3.000000         1.285260         0.380585         0.697655   \n",
            "T6         2.943695         0.709360         0.476185         0.875240   \n",
            "T7         2.768590         0.828360         0.432475         1.030455   \n",
            "T8         3.000000         1.043275         0.530400         0.873955   \n",
            "T9         3.000000         0.643730         0.532660         0.914775   \n",
            "\n",
            "    participant10_rt  participant12_rt  participant14_rt  participant16_rt  \\\n",
            "T0          0.524220          0.625945          0.793855          0.445030   \n",
            "T1          0.484290          0.223220          0.768445          0.498310   \n",
            "T2          0.688365          0.582145          0.847680          0.617990   \n",
            "T3          0.666755          0.529025          0.772015          0.551715   \n",
            "T4          0.476870          0.287975          0.842640          0.527350   \n",
            "T5          0.676070          0.149715          0.648025          0.501090   \n",
            "T6          1.022615          0.440435          0.603155          0.539565   \n",
            "T7          0.843635          0.261015          0.746005          0.594850   \n",
            "T8          0.679245          0.225620          0.712275          0.529125   \n",
            "T9          0.425215          0.572030          0.837340          0.707140   \n",
            "\n",
            "    participant18_rt  participant20_rt  participant21_rt  \n",
            "T0          0.349970          0.580120          0.576775  \n",
            "T1          0.171590          0.479215          0.517730  \n",
            "T2          0.264190          0.368795          1.506475  \n",
            "T3          0.189615          0.440990          0.681945  \n",
            "T4          0.268315          0.551535          0.953340  \n",
            "T5          0.233820          0.475365          1.710760  \n",
            "T6          0.117955          0.584615          1.099220  \n",
            "T7          0.131310          0.791325          1.058265  \n",
            "T8          0.141785          0.602960          0.857070  \n",
            "T9          0.213055          0.907240          0.380000  \n"
          ]
        }
      ]
    },
    {
      "cell_type": "code",
      "source": [
        "dfrt.to_csv('participant_rt.csv')"
      ],
      "metadata": {
        "id": "jxclLtFB3__I"
      },
      "execution_count": null,
      "outputs": []
    },
    {
      "cell_type": "code",
      "source": [
        "# Initialize a dictionary to store the average response time for each participant\n",
        "average_rt = {}\n",
        "\n",
        "# Iterate over each participant's response time data\n",
        "for participant, rt_data in participant_rt.items():\n",
        "    # Calculate the average response time for the participant\n",
        "    avg_rt = np.mean(list(rt_data.values()))\n",
        "    # Store the average response time in the dictionary\n",
        "    average_rt[participant] = avg_rt\n",
        "\n",
        "# Print the average response time for each participant\n",
        "for participant, avg_rt in average_rt.items():\n",
        "    print(f\"{participant}: = {avg_rt:.2f}\")\n"
      ],
      "metadata": {
        "colab": {
          "base_uri": "https://localhost:8080/"
        },
        "id": "DcA7ZiBRpSeq",
        "outputId": "824ca5c9-5c0e-4183-f9dc-392f18be3c1d"
      },
      "execution_count": null,
      "outputs": [
        {
          "output_type": "stream",
          "name": "stdout",
          "text": [
            "participant2_rt: = 2.96\n",
            "participant4_rt: = 0.84\n",
            "participant6_rt: = 0.47\n",
            "participant8_rt: = 0.77\n",
            "participant10_rt: = 0.65\n",
            "participant12_rt: = 0.39\n",
            "participant14_rt: = 0.76\n",
            "participant16_rt: = 0.55\n",
            "participant18_rt: = 0.21\n",
            "participant20_rt: = 0.58\n",
            "participant21_rt: = 0.93\n"
          ]
        }
      ]
    },
    {
      "cell_type": "code",
      "source": [
        "# File path for the CSV file\n",
        "csv_file_path = \"average_rt.csv\"\n",
        "\n",
        "# Open the CSV file in write mode\n",
        "with open(csv_file_path, mode='w', newline='') as file:\n",
        "    # Define the CSV writer\n",
        "    writer = csv.writer(file)\n",
        "\n",
        "    # Write the header row\n",
        "    writer.writerow(['Participant', 'Average_RT'])\n",
        "\n",
        "    # Write data rows\n",
        "    for participant, avg_rt in average_rt.items():\n",
        "        writer.writerow([participant, avg_rt])\n",
        "\n",
        "print(\"CSV file has been created successfully.\")\n"
      ],
      "metadata": {
        "colab": {
          "base_uri": "https://localhost:8080/"
        },
        "id": "Qq7rcq2EuQpW",
        "outputId": "3c7124d9-4a78-4036-878f-f6e4f10349ce"
      },
      "execution_count": null,
      "outputs": [
        {
          "output_type": "stream",
          "name": "stdout",
          "text": [
            "CSV file has been created successfully.\n"
          ]
        }
      ]
    }
  ]
}